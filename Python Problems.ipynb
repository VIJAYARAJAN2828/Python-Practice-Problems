{
 "cells": [
  {
   "cell_type": "markdown",
   "id": "2eccb369-f2da-49f0-871a-b699827e2baa",
   "metadata": {},
   "source": [
    "##### Question 1:\n",
    "##### Given a string, reverse the order of words in it."
   ]
  },
  {
   "cell_type": "code",
   "execution_count": 2,
   "id": "25343549-3985-4690-b3aa-c6b392d4ab41",
   "metadata": {},
   "outputs": [
    {
     "name": "stdout",
     "output_type": "stream",
     "text": [
      "NAJARAYAJIV\n",
      "VARA\n"
     ]
    },
    {
     "data": {
      "text/plain": [
       "'V'"
      ]
     },
     "execution_count": 2,
     "metadata": {},
     "output_type": "execute_result"
    }
   ],
   "source": [
    "a='VIJAYARAJAN'\n",
    "print(a[::-1]) #a[start:stop:step]\n",
    "print(a[:11:3])\n",
    "a[0::-1]  #a[0::-1] will start at index 0 ('V') and go backwards. Since there's no character before 'V', it only includes 'V'."
   ]
  },
  {
   "cell_type": "markdown",
   "id": "63b1b603-38d1-410b-be7f-5426ee414182",
   "metadata": {},
   "source": [
    "##### Question 2:\n",
    "##### Write a Python program to check if a given string is a palindrome."
   ]
  },
  {
   "cell_type": "code",
   "execution_count": 15,
   "id": "1a77102a-1642-4a53-a8c6-d913ff55629c",
   "metadata": {},
   "outputs": [
    {
     "name": "stdin",
     "output_type": "stream",
     "text": [
      "Enter a name :  VIJAY\n"
     ]
    },
    {
     "name": "stdout",
     "output_type": "stream",
     "text": [
      "Not a palindrome \n"
     ]
    }
   ],
   "source": [
    "b=input('Enter a name : ')\n",
    "if b==b[::-1]:\n",
    "    print('Yes its palindrome ')\n",
    "else:\n",
    "    print('Not a palindrome ')"
   ]
  },
  {
   "cell_type": "markdown",
   "id": "6848b61b-2993-4ec5-9bff-8acdeaa25d08",
   "metadata": {},
   "source": [
    "##### Question 3:\n",
    "##### Remove all occurrences of a given character from a string."
   ]
  },
  {
   "cell_type": "code",
   "execution_count": 3,
   "id": "3d8cfe52-f221-4519-a69e-454783a3aff6",
   "metadata": {},
   "outputs": [
    {
     "data": {
      "text/plain": [
       "'VIAYARAAN'"
      ]
     },
     "execution_count": 3,
     "metadata": {},
     "output_type": "execute_result"
    }
   ],
   "source": [
    "c='VIJAYARAJAN'\n",
    "c1='J'\n",
    "c.replace(c1,'')"
   ]
  },
  {
   "cell_type": "markdown",
   "id": "de94c832-1fb0-4e00-a218-5b00729897c3",
   "metadata": {},
   "source": [
    "##### Question 4:\n",
    "##### Find the most frequent character in a string."
   ]
  },
  {
   "cell_type": "code",
   "execution_count": 4,
   "id": "72c90941-c243-42b6-bbd1-1ded3522465f",
   "metadata": {},
   "outputs": [
    {
     "data": {
      "text/plain": [
       "'a'"
      ]
     },
     "execution_count": 4,
     "metadata": {},
     "output_type": "execute_result"
    }
   ],
   "source": [
    "d='My name is Vijayarajan'\n",
    "from collections import Counter\n",
    "char_count = Counter(d)\n",
    "char_count.most_common(1)[0][0]"
   ]
  },
  {
   "cell_type": "code",
   "execution_count": 13,
   "id": "138b83b3-d291-412a-9bef-29baf6f85d3d",
   "metadata": {},
   "outputs": [
    {
     "data": {
      "text/plain": [
       "[('a', 5), (' ', 3), ('y', 2), ('n', 2)]"
      ]
     },
     "execution_count": 13,
     "metadata": {},
     "output_type": "execute_result"
    }
   ],
   "source": [
    "char_count.most_common(4)"
   ]
  },
  {
   "cell_type": "code",
   "execution_count": 30,
   "id": "782c4581-5685-4a0d-9b4d-0f93f765fe4e",
   "metadata": {},
   "outputs": [
    {
     "data": {
      "text/plain": [
       "[('a', 5)]"
      ]
     },
     "execution_count": 30,
     "metadata": {},
     "output_type": "execute_result"
    }
   ],
   "source": [
    "char_count = Counter(d)\n",
    "char_count.most_common(1)"
   ]
  },
  {
   "cell_type": "code",
   "execution_count": 15,
   "id": "bea5d22d-2fb5-441f-afc4-1bb4d945b9ec",
   "metadata": {},
   "outputs": [
    {
     "name": "stdout",
     "output_type": "stream",
     "text": [
      "{'M': 1, 'y': 2, ' ': 3, 'n': 2, 'a': 5, 'm': 1, 'e': 1, 'i': 2, 's': 1, 'V': 1, 'j': 2, 'r': 1}\n"
     ]
    }
   ],
   "source": [
    "char_counts={}\n",
    "for i in d:\n",
    "    char_counts[i]=char_counts.get(i,0)+1\n",
    "print(char_counts)"
   ]
  },
  {
   "cell_type": "markdown",
   "id": "6e998053-fdb6-4428-83d3-ea1546ef2bd9",
   "metadata": {},
   "source": [
    "##### Question 5:\n",
    "##### Check if two strings are anagrams of each other."
   ]
  },
  {
   "cell_type": "code",
   "execution_count": 17,
   "id": "d2dfb87e-4e78-4820-b989-f98586a6904f",
   "metadata": {},
   "outputs": [
    {
     "name": "stdout",
     "output_type": "stream",
     "text": [
      "yes\n"
     ]
    }
   ],
   "source": [
    "e='DOG'\n",
    "f='GOD'\n",
    "sort1=sorted(e)\n",
    "sort2=sorted(f)\n",
    "if sort1==sort2:\n",
    "    print('yes')\n",
    "else:\n",
    "    print('No')"
   ]
  },
  {
   "cell_type": "markdown",
   "id": "551dafb3-b2f8-4c5f-a477-b044552373a3",
   "metadata": {},
   "source": [
    "##### Question 6:\n",
    "##### Count the number of vowels in a string."
   ]
  },
  {
   "cell_type": "code",
   "execution_count": 42,
   "id": "4a7dc04f-a86b-4687-a70c-61756dbaa584",
   "metadata": {},
   "outputs": [
    {
     "name": "stdin",
     "output_type": "stream",
     "text": [
      "Enter a name :  VIJAYARAJAN\n"
     ]
    },
    {
     "name": "stdout",
     "output_type": "stream",
     "text": [
      "5\n"
     ]
    }
   ],
   "source": [
    "vov='aeiou'\n",
    "strn=input('Enter a name : ')\n",
    "count=0\n",
    "for i in strn:\n",
    "    if i.lower() in vov:\n",
    "        count+=1\n",
    "print(count)"
   ]
  },
  {
   "cell_type": "markdown",
   "id": "8017672b-2208-4f15-b5fb-39726fbec7ae",
   "metadata": {},
   "source": [
    "##### Question 7:\n",
    "##### Capitalize the first letter of each word in a string."
   ]
  },
  {
   "cell_type": "code",
   "execution_count": 47,
   "id": "dd78ddc3-71f4-4e75-a353-9bfbbaa4e0fe",
   "metadata": {},
   "outputs": [
    {
     "data": {
      "text/plain": [
       "'My Name Is Vijayarajan'"
      ]
     },
     "execution_count": 47,
     "metadata": {},
     "output_type": "execute_result"
    }
   ],
   "source": [
    "g='my name is vijayarajan'\n",
    "g.title()"
   ]
  },
  {
   "cell_type": "markdown",
   "id": "aa99de6b-6738-407a-a178-96d53a5e835c",
   "metadata": {},
   "source": [
    "##### Question 8:\n",
    "##### Find the length of the longest substring without repeating characters."
   ]
  },
  {
   "cell_type": "code",
   "execution_count": 63,
   "id": "5e5466f6-b383-4627-bfdc-b954442ac26f",
   "metadata": {},
   "outputs": [
    {
     "name": "stdout",
     "output_type": "stream",
     "text": [
      "{'n', 'a', 'r', 's', 'j', 'y', ' ', 'i', 'm', 'v', 'e'}\n"
     ]
    },
    {
     "data": {
      "text/plain": [
       "11"
      ]
     },
     "execution_count": 63,
     "metadata": {},
     "output_type": "execute_result"
    }
   ],
   "source": [
    "h='my name is vijayarajan'\n",
    "h1=set(h)\n",
    "print(h1)\n",
    "len(h1)"
   ]
  },
  {
   "cell_type": "markdown",
   "id": "644958c9-b201-47ad-aa70-597dfc369104",
   "metadata": {},
   "source": [
    "##### Question 9:\n",
    "##### Check if a string is a valid email address."
   ]
  },
  {
   "cell_type": "code",
   "execution_count": 18,
   "id": "5c3334b0-fb96-45d6-a82a-682377972f7e",
   "metadata": {},
   "outputs": [
    {
     "name": "stdout",
     "output_type": "stream",
     "text": [
      "Valid\n"
     ]
    }
   ],
   "source": [
    "must_char='@%&*#123456789'\n",
    "name='Viay1@'\n",
    "cnt=0\n",
    "for i in name:\n",
    "    if i in must_char:\n",
    "        cnt+=1\n",
    "        pass\n",
    "    else:\n",
    "        pass\n",
    "if cnt>0:\n",
    "    print('Valid')\n",
    "else:\n",
    "    print('Not valid')\n",
    "        "
   ]
  },
  {
   "cell_type": "code",
   "execution_count": null,
   "id": "9247dc0f-d590-4115-bffa-79ef760dfaf4",
   "metadata": {},
   "outputs": [],
   "source": []
  },
  {
   "cell_type": "markdown",
   "id": "674da936-5aa7-4551-9759-f69eceb42c1b",
   "metadata": {},
   "source": [
    "##### Question 10:\n",
    "##### Given a string, find the first non-repeating character in it."
   ]
  },
  {
   "cell_type": "code",
   "execution_count": 72,
   "id": "a1800d5c-9077-498d-9616-6bbe19afc9a0",
   "metadata": {},
   "outputs": [
    {
     "name": "stdin",
     "output_type": "stream",
     "text": [
      "Enter:  Vvvijay\n"
     ]
    },
    {
     "name": "stdout",
     "output_type": "stream",
     "text": [
      "i\n"
     ]
    }
   ],
   "source": [
    "def f(name):\n",
    "  char_count = {}\n",
    "  for i in name:\n",
    "    char_count[i] = char_count.get(i, 0) + 1\n",
    "\n",
    "  for j in name:\n",
    "    if char_count[j] == 1:\n",
    "      return j\n",
    "\n",
    "name = input(\"Enter: \").lower()\n",
    "print(f(name))"
   ]
  },
  {
   "cell_type": "markdown",
   "id": "e6ecc229-52bd-44ed-8c3c-c6eb2c1ab153",
   "metadata": {},
   "source": [
    "##### Q11 \n",
    "##### Write a program to check whether two numbers are amicable or not (take the input from user)."
   ]
  },
  {
   "cell_type": "code",
   "execution_count": 4,
   "id": "266cdebb-f018-43eb-8082-4f1da79ddac1",
   "metadata": {},
   "outputs": [
    {
     "name": "stdin",
     "output_type": "stream",
     "text": [
      "Enter the first number:  220\n",
      "Enter the second number:  240\n"
     ]
    },
    {
     "name": "stdout",
     "output_type": "stream",
     "text": [
      "220 and 240 are not amicable numbers.\n"
     ]
    }
   ],
   "source": [
    "def sum_of_divisors(num):\n",
    "  \"\"\"Calculates the sum of proper divisors of a number.\"\"\"\n",
    "  sum_div = 0\n",
    "  for i in range(1, num):\n",
    "    if num % i == 0:\n",
    "      sum_div += i\n",
    "  return sum_div\n",
    "\n",
    "def is_amicable(num1, num2):\n",
    "  \"\"\"Checks if two numbers are amicable.\"\"\"\n",
    "  sum1 = sum_of_divisors(num1)\n",
    "  sum2 = sum_of_divisors(num2)\n",
    "  return sum1 == num2 and sum2 == num1\n",
    "\n",
    "num1 = int(input(\"Enter the first number: \"))\n",
    "num2 = int(input(\"Enter the second number: \"))\n",
    "\n",
    "if is_amicable(num1, num2):\n",
    "  print(f\"{num1} and {num2} are amicable numbers.\")\n",
    "else:\n",
    "  print(f\"{num1} and {num2} are not amicable numbers.\")"
   ]
  },
  {
   "cell_type": "markdown",
   "id": "86254006-095a-4930-9aa5-f592c3f69a63",
   "metadata": {},
   "source": [
    "## List"
   ]
  },
  {
   "cell_type": "markdown",
   "id": "9bec2cde-50e5-4df8-b610-b69f2a558acb",
   "metadata": {},
   "source": [
    "#### Q12\n",
    "#### Write a function sum_list(lst) that takes a list of numbers and returns their sum."
   ]
  },
  {
   "cell_type": "code",
   "execution_count": 75,
   "id": "768a38b5-bad8-4bf5-8c69-aa02259a7a13",
   "metadata": {},
   "outputs": [
    {
     "data": {
      "text/plain": [
       "15"
      ]
     },
     "execution_count": 75,
     "metadata": {},
     "output_type": "execute_result"
    }
   ],
   "source": [
    "sum_list=[1,2,3,4,5]\n",
    "res=sum(sum_list)\n",
    "res"
   ]
  },
  {
   "cell_type": "code",
   "execution_count": null,
   "id": "975d5047-f20c-44ce-963b-9d8ad433c5fd",
   "metadata": {},
   "outputs": [],
   "source": []
  },
  {
   "cell_type": "markdown",
   "id": "469c3dcc-1499-4c50-9d99-5d14bfc2e605",
   "metadata": {},
   "source": [
    "#### Q13\n",
    "#### Write a function find_max(lst) that returns the maximum value in a list of numbers."
   ]
  },
  {
   "cell_type": "code",
   "execution_count": 77,
   "id": "f564412b-352c-46ea-b919-1b895e090f1e",
   "metadata": {},
   "outputs": [
    {
     "data": {
      "text/plain": [
       "6"
      ]
     },
     "execution_count": 77,
     "metadata": {},
     "output_type": "execute_result"
    }
   ],
   "source": [
    "max_list=[1,2,3,4,5,6]\n",
    "res1=max(max_list)\n",
    "res1"
   ]
  },
  {
   "cell_type": "markdown",
   "id": "7d3479b5-968a-402a-af9f-f7e16aa842fd",
   "metadata": {},
   "source": [
    "#### Q14\n",
    "#### Write a function reverse_list(lst) that takes a list and returns a new list with the elements in reverse order."
   ]
  },
  {
   "cell_type": "code",
   "execution_count": 82,
   "id": "abf13bd5-7b8f-4441-bb6c-253001bc2ce6",
   "metadata": {},
   "outputs": [
    {
     "data": {
      "text/plain": [
       "['Y', 'A', 'J', 'I', 'V']"
      ]
     },
     "execution_count": 82,
     "metadata": {},
     "output_type": "execute_result"
    }
   ],
   "source": [
    "reve_list=['V','I','J','A','Y']\n",
    "reve_list[::-1]"
   ]
  },
  {
   "cell_type": "markdown",
   "id": "682aeb1f-87ad-4783-bc81-be4a07f24b3c",
   "metadata": {},
   "source": [
    "#### Q15\n",
    "#### Write a function count_occurrences(lst, element) that returns the number of times the specified element appears in the list."
   ]
  },
  {
   "cell_type": "code",
   "execution_count": 83,
   "id": "e8c617e3-62ff-4a8f-ac05-ec7cb71506a2",
   "metadata": {},
   "outputs": [
    {
     "data": {
      "text/plain": [
       "2"
      ]
     },
     "execution_count": 83,
     "metadata": {},
     "output_type": "execute_result"
    }
   ],
   "source": [
    "names = [\"Alice\", \"Bob\", \"Charlie\", \"Diana\", \"Ethan\",\"Alice\"]\n",
    "names.count('Alice')"
   ]
  },
  {
   "cell_type": "code",
   "execution_count": null,
   "id": "b8d1bbaa-9941-49f0-a718-128f60571adc",
   "metadata": {},
   "outputs": [],
   "source": []
  },
  {
   "cell_type": "markdown",
   "id": "a57c5629-acca-4e24-bcdf-f785cb38927d",
   "metadata": {},
   "source": [
    "#### Q16\n",
    "#### Given a list of lists, write a list comprehension to flatten it into a single list."
   ]
  },
  {
   "cell_type": "code",
   "execution_count": 84,
   "id": "03bbcdde-82eb-4ba7-8f16-80938c3fb30c",
   "metadata": {},
   "outputs": [
    {
     "data": {
      "text/plain": [
       "[[1, 2, 3, 4, 5, 6]]"
      ]
     },
     "execution_count": 84,
     "metadata": {},
     "output_type": "execute_result"
    }
   ],
   "source": [
    "nested_list = [[1, 2, 3], [4, 5], [6]]\n",
    "res=[nested_list[0]+nested_list[1]+nested_list[2]]\n",
    "res"
   ]
  },
  {
   "cell_type": "code",
   "execution_count": 91,
   "id": "73ee6316-9cdc-4161-a200-2a55b5f6548d",
   "metadata": {},
   "outputs": [
    {
     "data": {
      "text/plain": [
       "[1, 2, 3, 4, 5, 6]"
      ]
     },
     "execution_count": 91,
     "metadata": {},
     "output_type": "execute_result"
    }
   ],
   "source": [
    "nested_list = [[1, 2, 3], [4, 5], [6]]\n",
    "res = [ans for i in nested_list  for ans in i]\n",
    "res"
   ]
  },
  {
   "cell_type": "code",
   "execution_count": null,
   "id": "139524c7-aad2-4c80-8999-e099e20edd0e",
   "metadata": {},
   "outputs": [],
   "source": []
  },
  {
   "cell_type": "markdown",
   "id": "a210c01b-d9ee-4b57-8310-ed8b8e1fb153",
   "metadata": {},
   "source": [
    "#### Q17\n",
    "#### Write a list comprehension to create a list of squares of even numbers from a given list."
   ]
  },
  {
   "cell_type": "code",
   "execution_count": 96,
   "id": "82470639-dc9c-4a2b-9f8c-a3ceddcf404d",
   "metadata": {},
   "outputs": [
    {
     "data": {
      "text/plain": [
       "[4, 16, 36, 64, 100]"
      ]
     },
     "execution_count": 96,
     "metadata": {},
     "output_type": "execute_result"
    }
   ],
   "source": [
    "result=[ans**2 for ans in range(1,11) if ans%2==0]\n",
    "result"
   ]
  },
  {
   "cell_type": "code",
   "execution_count": null,
   "id": "bd035688-705f-4efa-8f3b-91e3dec95fd8",
   "metadata": {},
   "outputs": [],
   "source": []
  },
  {
   "cell_type": "markdown",
   "id": "1b382ccd-7f86-45d5-92cd-405db81e8a14",
   "metadata": {},
   "source": [
    "#### Q18\n",
    "#### Given a string with alphanumeric characters, write a list comprehension to extract all the digits and convert them into integers."
   ]
  },
  {
   "cell_type": "code",
   "execution_count": 102,
   "id": "1dae4f6c-71ee-425b-b676-b30c63b3d446",
   "metadata": {},
   "outputs": [
    {
     "data": {
      "text/plain": [
       "[1, 2, 3]"
      ]
     },
     "execution_count": 102,
     "metadata": {},
     "output_type": "execute_result"
    }
   ],
   "source": [
    "# Result: [1, 2, 3]\n",
    "s = \"a1b2c3\"\n",
    "digits = [int(char) for char in s if char.isdigit()]\n",
    "digits"
   ]
  },
  {
   "cell_type": "code",
   "execution_count": null,
   "id": "f2099c39-71ad-4dde-a9a9-ef988bbfb8a4",
   "metadata": {},
   "outputs": [],
   "source": []
  },
  {
   "cell_type": "markdown",
   "id": "819a39c0-59c9-4562-bd80-ecae7996cf0b",
   "metadata": {},
   "source": [
    "#### Q19\n",
    "#### Write a list comprehension to filter out palindromic words from a list of strings."
   ]
  },
  {
   "cell_type": "code",
   "execution_count": 114,
   "id": "d0285646-0c51-4e73-a8e8-d2361fa49dff",
   "metadata": {},
   "outputs": [
    {
     "data": {
      "text/plain": [
       "['madam', 'racecar']"
      ]
     },
     "execution_count": 114,
     "metadata": {},
     "output_type": "execute_result"
    }
   ],
   "source": [
    "words = [\"madam\", \"racecar\", \"hello\", \"world\"]\n",
    "palindromes = [word for word in words if word == word[::-1]]\n",
    "palindromes"
   ]
  },
  {
   "cell_type": "code",
   "execution_count": null,
   "id": "fa620884-6a58-4759-8156-817a755701ee",
   "metadata": {},
   "outputs": [],
   "source": []
  },
  {
   "cell_type": "markdown",
   "id": "222f3d3a-b390-4f28-9184-c8452269074f",
   "metadata": {},
   "source": [
    "#### Q20\n",
    "#### Write a list comprehension to generate the first n Fibonacci numbers."
   ]
  },
  {
   "cell_type": "code",
   "execution_count": 115,
   "id": "b390dd9e-cac6-4997-bc8e-9df0dafbc9e1",
   "metadata": {},
   "outputs": [
    {
     "name": "stdout",
     "output_type": "stream",
     "text": [
      "0\n",
      "1\n",
      "1\n",
      "2\n",
      "3\n",
      "5\n",
      "8\n",
      "13\n",
      "21\n",
      "34\n",
      "55\n"
     ]
    }
   ],
   "source": [
    "n=11\n",
    "num1 = 0\n",
    "num2 = 1\n",
    "count = 0\n",
    "while count < n:\n",
    "    print(num1)\n",
    "    nth = num1 + num2\n",
    "    num1 = num2\n",
    "    num2 = nth\n",
    "    count += 1"
   ]
  },
  {
   "cell_type": "code",
   "execution_count": null,
   "id": "12054dff-6e71-46a5-b86f-b688ffec2b41",
   "metadata": {},
   "outputs": [],
   "source": []
  },
  {
   "cell_type": "markdown",
   "id": "c1c8fe5d-2bcf-4cff-9ff3-9b284bab1478",
   "metadata": {},
   "source": [
    "#### Q21\n",
    "#### Write a list comprehension to remove all vowels from each string in a list of strings."
   ]
  },
  {
   "cell_type": "code",
   "execution_count": 125,
   "id": "58544da8-c238-4ab3-b3f5-fe33a71090a9",
   "metadata": {},
   "outputs": [
    {
     "name": "stdout",
     "output_type": "stream",
     "text": [
      "Alc\n",
      "Bb\n",
      "Chrl\n",
      "Dn\n",
      "Ethn\n"
     ]
    }
   ],
   "source": [
    "names = [\"Alice\", \"Bob\", \"Charlie\", \"Diana\", \"Ethan\"]\n",
    "vov = 'aeiou'\n",
    "\n",
    "for i in range(len(names)):\n",
    "    for j in names[i]:\n",
    "        if j in vov:\n",
    "            names[i] = names[i].replace(j, '')\n",
    "    print(names[i])"
   ]
  },
  {
   "cell_type": "markdown",
   "id": "8a1bd04a-7f74-487a-8e9f-f53ecc466b82",
   "metadata": {},
   "source": [
    "#### Q22\n",
    "#### Write a list comprehension to find all substrings of length 3 in a given string."
   ]
  },
  {
   "cell_type": "code",
   "execution_count": 132,
   "id": "6a972927-1eee-476a-afad-f41f1ee563f1",
   "metadata": {},
   "outputs": [
    {
     "data": {
      "text/plain": [
       "[['Alice', 'Bob', 'Charlie'],\n",
       " ['Bob', 'Charlie', 'Diana'],\n",
       " ['Charlie', 'Diana', 'Ethan']]"
      ]
     },
     "execution_count": 132,
     "metadata": {},
     "output_type": "execute_result"
    }
   ],
   "source": [
    "names = [\"Alice\", \"Bob\", \"Charlie\", \"Diana\", \"Ethan\"]\n",
    "substrings = [names[i:i+3] for i in range(len(names) - 2)]\n",
    "substrings"
   ]
  },
  {
   "cell_type": "markdown",
   "id": "9a234186-350d-4020-a8b2-0da73434979b",
   "metadata": {},
   "source": [
    "#### Q23\n",
    "#### Write a list comprehension to extract unique characters from a string, in the order they first appear."
   ]
  },
  {
   "cell_type": "code",
   "execution_count": 139,
   "id": "1b489089-f854-4915-9b9a-1a3154815d7c",
   "metadata": {},
   "outputs": [
    {
     "name": "stdout",
     "output_type": "stream",
     "text": [
      "['a', 'b', 'r', 'c', 'd']\n"
     ]
    }
   ],
   "source": [
    "s = \"abracadabra\"\n",
    "unique_chars = []\n",
    "[unique_chars.append(char) for char in s if char not in unique_chars]\n",
    "print(unique_chars)"
   ]
  },
  {
   "cell_type": "markdown",
   "id": "ba018a1a-33b4-4072-949f-330b890bdbad",
   "metadata": {},
   "source": [
    "#### Q24\n",
    "#### Given two lists, one of keys and one of values, write a list comprehension to create a dictionary from these lists."
   ]
  },
  {
   "cell_type": "code",
   "execution_count": 144,
   "id": "8c963679-dcce-4974-ad17-67be4c458804",
   "metadata": {},
   "outputs": [
    {
     "name": "stdout",
     "output_type": "stream",
     "text": [
      "{'apple': 0.5, 'banana': 1.2, 'cherry': 0.75, 'date': 0.3, 'elderberry': 0.9}\n"
     ]
    }
   ],
   "source": [
    "keys = [\"apple\", \"banana\", \"cherry\", \"date\", \"elderberry\"]\n",
    "values = [0.5, 1.2, 0.75, 0.3, 0.9]\n",
    "my_dict = dict(zip(keys, values))\n",
    "print(my_dict)"
   ]
  },
  {
   "cell_type": "code",
   "execution_count": 145,
   "id": "f7b0ab32-2ea8-4d6c-b364-38bcb31f3873",
   "metadata": {},
   "outputs": [
    {
     "data": {
      "text/plain": [
       "{'apple': 0.5, 'banana': 1.2, 'cherry': 0.75, 'date': 0.3, 'elderberry': 0.9}"
      ]
     },
     "execution_count": 145,
     "metadata": {},
     "output_type": "execute_result"
    }
   ],
   "source": [
    "result = {keys[i]: values[i] for i in range(len(keys))}\n",
    "result"
   ]
  },
  {
   "cell_type": "code",
   "execution_count": null,
   "id": "e8e24df3-e8c9-4ed0-a753-0a3412874072",
   "metadata": {},
   "outputs": [],
   "source": []
  },
  {
   "cell_type": "markdown",
   "id": "25ecd16f-39b6-478d-80e6-e29a938fa49f",
   "metadata": {},
   "source": [
    "### Loops"
   ]
  },
  {
   "cell_type": "markdown",
   "id": "7fd4a7d9-f1fa-4655-ac99-578831de6905",
   "metadata": {},
   "source": [
    "#### Q25\n",
    "#### Write a function that returns the longest sequence of consecutive numbers in a list using a while loop"
   ]
  },
  {
   "cell_type": "code",
   "execution_count": 152,
   "id": "96934c50-99c8-40da-b6af-65dea8574d63",
   "metadata": {},
   "outputs": [
    {
     "data": {
      "text/plain": [
       "[1, 2, 3, 4, 9, 10, 11, 12, 20, 21]"
      ]
     },
     "execution_count": 152,
     "metadata": {},
     "output_type": "execute_result"
    }
   ],
   "source": [
    "num=[1, 9, 3, 10, 4, 20, 2, 11, 21, 12]\n",
    "num.sort()\n",
    "num   ## Incomplete"
   ]
  },
  {
   "cell_type": "markdown",
   "id": "fa4d46b1-5ad6-4ba5-9ced-35176ddf402b",
   "metadata": {},
   "source": [
    "#### Q26\n",
    "#### Create a program that simulates a basic calculator (addition, subtraction, multiplication, division) until the user chooses to quit using a while loop."
   ]
  },
  {
   "cell_type": "code",
   "execution_count": 204,
   "id": "eb3034ea-6247-4974-bdb3-ee230b5f434c",
   "metadata": {},
   "outputs": [
    {
     "name": "stdin",
     "output_type": "stream",
     "text": [
      "Enter a number :  1\n",
      "Enter a number :  2\n"
     ]
    },
    {
     "name": "stdout",
     "output_type": "stream",
     "text": [
      "3 1 2 2.0\n"
     ]
    },
    {
     "name": "stdin",
     "output_type": "stream",
     "text": [
      "If you want to stop Enter stop: 3\n"
     ]
    },
    {
     "name": "stdout",
     "output_type": "stream",
     "text": [
      "3 1 2 2.0\n"
     ]
    },
    {
     "name": "stdin",
     "output_type": "stream",
     "text": [
      "If you want to stop Enter stop: 4\n"
     ]
    },
    {
     "name": "stdout",
     "output_type": "stream",
     "text": [
      "3 1 2 2.0\n"
     ]
    },
    {
     "name": "stdin",
     "output_type": "stream",
     "text": [
      "If you want to stop Enter stop: 5\n"
     ]
    },
    {
     "name": "stdout",
     "output_type": "stream",
     "text": [
      "3 1 2 2.0\n"
     ]
    },
    {
     "name": "stdin",
     "output_type": "stream",
     "text": [
      "If you want to stop Enter stop: stop\n"
     ]
    },
    {
     "name": "stdout",
     "output_type": "stream",
     "text": [
      "Stopped\n"
     ]
    }
   ],
   "source": [
    "num1=int(input('Enter a number : '))\n",
    "num2=int(input('Enter a number : '))\n",
    "stop='continue'\n",
    "while stop!='stop':\n",
    "    add=num1+num2\n",
    "    sub=abs(num1-num2)\n",
    "    mul=num1*num2\n",
    "    if num1>num2:\n",
    "        div=num1/num2\n",
    "    else:\n",
    "        div=num2/num1\n",
    "    print(add,sub,mul,div)\n",
    "    stop=input('If you want to stop Enter stop:').lower()\n",
    "print('Stopped')"
   ]
  },
  {
   "cell_type": "markdown",
   "id": "d7f15f23-8559-4c5c-bb2f-448548933cd2",
   "metadata": {},
   "source": [
    "#### Q27\n",
    "#### Develop a function that removes all duplicates from a list without using set operations, utilizing a for loop."
   ]
  },
  {
   "cell_type": "code",
   "execution_count": 163,
   "id": "8b7b4202-c3b5-4de7-aeb2-963d38525e3f",
   "metadata": {},
   "outputs": [
    {
     "name": "stdout",
     "output_type": "stream",
     "text": [
      "['Alice', 'Bob', 'Charlie', 'Diana', 'Ethan', 'Fiona']\n"
     ]
    }
   ],
   "source": [
    "names= [\"Alice\", \"Bob\", \"Charlie\", \"Alice\", \"Diana\", \"Bob\", \"Ethan\", \"Charlie\", \"Fiona\", \"Alice\"]\n",
    "unique_list = []\n",
    "\n",
    "for num in names:\n",
    "    if num not in unique_list:\n",
    "        unique_list.append(num)\n",
    "print(unique_list)"
   ]
  },
  {
   "cell_type": "markdown",
   "id": "90df5506-7f31-40f4-bf1f-004d21f54c8c",
   "metadata": {},
   "source": [
    "#### Q28\n",
    "#### Create a while loop that reads integers from user input until a zero is entered, then outputs the sum of all entered integers."
   ]
  },
  {
   "cell_type": "code",
   "execution_count": 258,
   "id": "711b47cf-024d-4a7c-a756-343a43fb748a",
   "metadata": {},
   "outputs": [
    {
     "name": "stdin",
     "output_type": "stream",
     "text": [
      "Enter a number :  1\n",
      "Enter a number :  2\n",
      "Enter a number :  3\n",
      "Enter a number :  4\n",
      "Enter a number :  5\n",
      "Enter a number :  0\n"
     ]
    },
    {
     "name": "stdout",
     "output_type": "stream",
     "text": [
      "15\n"
     ]
    }
   ],
   "source": [
    "emp_list=[]\n",
    "stopper=1\n",
    "while stopper!=0:\n",
    "    i=int(input('Enter a number : '))\n",
    "    if i==0:\n",
    "        break \n",
    "    else:\n",
    "        emp_list.append(i)\n",
    "print(sum(emp_list))"
   ]
  },
  {
   "cell_type": "markdown",
   "id": "d41dfecf-07b7-4b22-89b5-21ff5f05968c",
   "metadata": {},
   "source": [
    "#### Q29\n",
    "#### Write a program using a while loop to find the smallest positive integer that is evenly divisible by all numbers from 1 to 10."
   ]
  },
  {
   "cell_type": "code",
   "execution_count": 177,
   "id": "da7203d0-5b0a-400c-bb3a-72293998607c",
   "metadata": {},
   "outputs": [
    {
     "name": "stdout",
     "output_type": "stream",
     "text": [
      "2520\n"
     ]
    }
   ],
   "source": [
    "def smallest_divisible(n):\n",
    "  num = 1\n",
    "  while True:\n",
    "    if all(num % i == 0 for i in range(1, n+1)):   ##?? Incomplete\n",
    "        return num\n",
    "    num += 1\n",
    "\n",
    "result = smallest_divisible(10)\n",
    "print(result)   "
   ]
  },
  {
   "cell_type": "markdown",
   "id": "c903f753-f7fb-48e9-8b3f-9e617a8d9583",
   "metadata": {},
   "source": [
    "#### Q30\n",
    "#### Use a for loop to print the first n prime numbers."
   ]
  },
  {
   "cell_type": "code",
   "execution_count": 50,
   "id": "551be69a-75b0-4c3e-a326-c5b8cc3fdbce",
   "metadata": {},
   "outputs": [
    {
     "name": "stdin",
     "output_type": "stream",
     "text": [
      "Enter a number:  5\n"
     ]
    },
    {
     "name": "stdout",
     "output_type": "stream",
     "text": [
      "2\n",
      "3\n",
      "5\n",
      "7\n",
      "11\n"
     ]
    }
   ],
   "source": [
    "n = int(input(\"Enter a number: \"))\n",
    "c = 2\n",
    "\n",
    "while n > 0:\n",
    "  for i in range(2, int(c**0.5) + 1):\n",
    "    if c % i == 0:\n",
    "      break\n",
    "  else:\n",
    "    print(c)\n",
    "    n -= 1\n",
    "  c+=1    #### This is number of prime numbers we have "
   ]
  },
  {
   "cell_type": "code",
   "execution_count": 1,
   "id": "f324bf95-9e49-4cfa-bd51-cda3b1a4f78b",
   "metadata": {},
   "outputs": [
    {
     "name": "stdin",
     "output_type": "stream",
     "text": [
      "Enter a number :  9\n"
     ]
    },
    {
     "name": "stdout",
     "output_type": "stream",
     "text": [
      "2\n",
      "3\n",
      "5\n",
      "7\n"
     ]
    }
   ],
   "source": [
    "num1=int(input('Enter a number : '))\n",
    "cnt=0\n",
    "for i in range(0,num1+1):\n",
    "    for j in range(1,i+1):\n",
    "        if i%j==0:\n",
    "            cnt+=1\n",
    "    if cnt==2:\n",
    "        print(i)\n",
    "    cnt=0      ## This is what are the prime numbers before that"
   ]
  },
  {
   "cell_type": "markdown",
   "id": "62750939-c15a-4289-a9b4-eb122bc47bb8",
   "metadata": {},
   "source": [
    "#### Q31\n",
    "#### Develop a function that calculates the factorial of a number using a while loop"
   ]
  },
  {
   "cell_type": "code",
   "execution_count": 259,
   "id": "43746311-f534-4e5e-bb24-2aeb0e984fb6",
   "metadata": {},
   "outputs": [
    {
     "name": "stdin",
     "output_type": "stream",
     "text": [
      "Enter a number : 5\n"
     ]
    },
    {
     "name": "stdout",
     "output_type": "stream",
     "text": [
      "120\n"
     ]
    }
   ],
   "source": [
    "a=int(input('Enter a number :'))\n",
    "f=1\n",
    "for i in range(1,a+1):\n",
    "    f=f*i\n",
    "print(f)"
   ]
  },
  {
   "cell_type": "code",
   "execution_count": 225,
   "id": "d44566e4-b299-4ddd-bbe1-29a1ddac5b3a",
   "metadata": {},
   "outputs": [
    {
     "name": "stdin",
     "output_type": "stream",
     "text": [
      "Enter a number:  5\n"
     ]
    },
    {
     "name": "stdout",
     "output_type": "stream",
     "text": [
      "120\n"
     ]
    }
   ],
   "source": [
    "n = int(input(\"Enter a number: \"))\n",
    "result = 1\n",
    "while n > 1:\n",
    "  result *= n\n",
    "  n -= 1\n",
    "print(result)"
   ]
  },
  {
   "cell_type": "markdown",
   "id": "79534dea-56f5-48db-af33-d0b23b95283f",
   "metadata": {},
   "source": [
    "#### Q32\n",
    "#### Write a while loop to find the greatest common divisor (GCD) of two numbers"
   ]
  },
  {
   "cell_type": "code",
   "execution_count": 228,
   "id": "316e6429-fe58-4a1f-8ad5-6048b330a05d",
   "metadata": {},
   "outputs": [
    {
     "data": {
      "text/plain": [
       "7"
      ]
     },
     "execution_count": 228,
     "metadata": {},
     "output_type": "execute_result"
    }
   ],
   "source": [
    "def gcd(a, b):\n",
    "    while b:\n",
    "        a, b = b, a % b\n",
    "    return a\n",
    "gcd(7,21)"
   ]
  },
  {
   "cell_type": "markdown",
   "id": "3875b182-8920-4f15-b746-cc0de8a92637",
   "metadata": {},
   "source": [
    "#### Q33\n",
    "#### Construct a guess the Number game using a while loop"
   ]
  },
  {
   "cell_type": "code",
   "execution_count": 51,
   "id": "fa4c1855-e6a2-4360-8739-54fc9fea4cea",
   "metadata": {},
   "outputs": [
    {
     "name": "stdin",
     "output_type": "stream",
     "text": [
      "Guess the number:  23\n"
     ]
    },
    {
     "name": "stdout",
     "output_type": "stream",
     "text": [
      "Too low!\n"
     ]
    },
    {
     "name": "stdin",
     "output_type": "stream",
     "text": [
      "Guess the number:  26\n"
     ]
    },
    {
     "name": "stdout",
     "output_type": "stream",
     "text": [
      "Too low!\n"
     ]
    },
    {
     "name": "stdin",
     "output_type": "stream",
     "text": [
      "Guess the number:  45\n"
     ]
    },
    {
     "name": "stdout",
     "output_type": "stream",
     "text": [
      "Too low!\n"
     ]
    },
    {
     "name": "stdin",
     "output_type": "stream",
     "text": [
      "Guess the number:  66\n"
     ]
    },
    {
     "name": "stdout",
     "output_type": "stream",
     "text": [
      "Too low!\n"
     ]
    },
    {
     "name": "stdin",
     "output_type": "stream",
     "text": [
      "Guess the number:  77\n"
     ]
    },
    {
     "name": "stdout",
     "output_type": "stream",
     "text": [
      "Too low!\n"
     ]
    },
    {
     "name": "stdin",
     "output_type": "stream",
     "text": [
      "Guess the number:  88\n"
     ]
    },
    {
     "name": "stdout",
     "output_type": "stream",
     "text": [
      "Too high!\n"
     ]
    },
    {
     "name": "stdin",
     "output_type": "stream",
     "text": [
      "Guess the number:  80\n"
     ]
    },
    {
     "name": "stdout",
     "output_type": "stream",
     "text": [
      "Too low!\n"
     ]
    },
    {
     "name": "stdin",
     "output_type": "stream",
     "text": [
      "Guess the number:  81\n"
     ]
    },
    {
     "name": "stdout",
     "output_type": "stream",
     "text": [
      "Too low!\n"
     ]
    },
    {
     "name": "stdin",
     "output_type": "stream",
     "text": [
      "Guess the number:  82\n"
     ]
    },
    {
     "name": "stdout",
     "output_type": "stream",
     "text": [
      "Correct!\n"
     ]
    }
   ],
   "source": [
    "import random\n",
    "\n",
    "def guess_the_number():\n",
    "    number = random.randint(1, 100)\n",
    "    guess = None\n",
    "    while guess != number:\n",
    "        guess = int(input(\"Guess the number: \"))\n",
    "        if guess < number:\n",
    "            print(\"Too low!\")\n",
    "        elif guess > number:\n",
    "            print(\"Too high!\")\n",
    "        else:\n",
    "            print(\"Correct!\")\n",
    "guess_the_number()"
   ]
  },
  {
   "cell_type": "markdown",
   "id": "cde36d26-e7d0-40cf-8a1a-572930432587",
   "metadata": {},
   "source": [
    "#### Q34\n",
    "#### Calculate the power of a number using a while loop"
   ]
  },
  {
   "cell_type": "code",
   "execution_count": 231,
   "id": "4ddd9160-6122-4e22-872a-386353789bf7",
   "metadata": {},
   "outputs": [
    {
     "name": "stdout",
     "output_type": "stream",
     "text": [
      "8\n"
     ]
    }
   ],
   "source": [
    "def power(base, exp):\n",
    "    result = 1\n",
    "    while exp > 0:\n",
    "        result *= base\n",
    "        exp -= 1\n",
    "    return result\n",
    "print(power(2, 3))"
   ]
  },
  {
   "cell_type": "markdown",
   "id": "bb85092f-b16d-4674-96d0-8fede3c798e2",
   "metadata": {},
   "source": [
    "#### Q35\n",
    "#### Find all the factors of a given number using a for loop"
   ]
  },
  {
   "cell_type": "code",
   "execution_count": 232,
   "id": "da5569ad-647a-4ad2-bda6-f6ed6978dfb0",
   "metadata": {},
   "outputs": [
    {
     "name": "stdout",
     "output_type": "stream",
     "text": [
      "[1, 2, 4, 7, 14, 28]\n"
     ]
    }
   ],
   "source": [
    "def factors(n):\n",
    "    result = []\n",
    "    for i in range(1, n + 1):\n",
    "        if n % i == 0:\n",
    "            result.append(i)\n",
    "    return result\n",
    "print(factors(28))"
   ]
  },
  {
   "cell_type": "markdown",
   "id": "8cc66fea-fa6a-4722-8a94-7488ec62ba12",
   "metadata": {},
   "source": [
    "#### Q36\n",
    "#### Check if a number is a perfect square using a while loop:"
   ]
  },
  {
   "cell_type": "code",
   "execution_count": 236,
   "id": "4c5700e2-99a9-4fa3-bbe5-c0428376dbc0",
   "metadata": {},
   "outputs": [
    {
     "name": "stdout",
     "output_type": "stream",
     "text": [
      "False\n"
     ]
    }
   ],
   "source": [
    "def perfect_square(n):\n",
    "    i = 1\n",
    "    while i * i <= n:\n",
    "        if i * i == n:\n",
    "            return True\n",
    "        i += 1\n",
    "    return False\n",
    "print(perfect_square(17))"
   ]
  },
  {
   "cell_type": "markdown",
   "id": "f9520115-fcee-4b98-ab04-2f3d4258dbea",
   "metadata": {},
   "source": [
    "#### Q37\n",
    "#### Find the sum of the squares of the first n natural numbers using a for loop:"
   ]
  },
  {
   "cell_type": "code",
   "execution_count": 237,
   "id": "ed91dd52-54a8-418b-acd2-cbf8e1d4287e",
   "metadata": {},
   "outputs": [
    {
     "name": "stdout",
     "output_type": "stream",
     "text": [
      "55\n"
     ]
    }
   ],
   "source": [
    "def sum_of_squares(n):\n",
    "    return sum(i * i for i in range(1, n + 1))\n",
    "print(sum_of_squares(5))"
   ]
  },
  {
   "cell_type": "markdown",
   "id": "11ae157c-fa31-498f-b568-c789f7c2c190",
   "metadata": {},
   "source": [
    "#### Q38\n",
    "#### Print the multiplication table of a given number using a for loop:"
   ]
  },
  {
   "cell_type": "code",
   "execution_count": 238,
   "id": "aabe171c-fcc0-419b-b8b6-dbf5af176e65",
   "metadata": {},
   "outputs": [
    {
     "name": "stdout",
     "output_type": "stream",
     "text": [
      "[5, 10, 15, 20, 25, 30, 35, 40, 45, 50]\n"
     ]
    }
   ],
   "source": [
    "def multiplication_table(n):\n",
    "    return [n * i for i in range(1, 11)]\n",
    "print(multiplication_table(5))"
   ]
  },
  {
   "cell_type": "markdown",
   "id": "461b06b0-85ee-40d8-842c-f5c8228f47f5",
   "metadata": {},
   "source": [
    "#### Q39\n",
    "#### Check if two strings are anagrams using a for loop:"
   ]
  },
  {
   "cell_type": "code",
   "execution_count": 239,
   "id": "66885e36-8258-4b82-9e63-ef0988b3ade6",
   "metadata": {},
   "outputs": [
    {
     "name": "stdout",
     "output_type": "stream",
     "text": [
      "True\n"
     ]
    }
   ],
   "source": [
    "def anagrams(str1, str2):\n",
    "    return sorted(str1) == sorted(str2)\n",
    "print(anagrams(\"listen\", \"silent\"))"
   ]
  },
  {
   "cell_type": "markdown",
   "id": "a2a8b668-e608-45e0-a4db-dbe8d3951c92",
   "metadata": {},
   "source": [
    "#### Q40\n",
    "#### Find the LCM of two numbers using a while loop:"
   ]
  },
  {
   "cell_type": "code",
   "execution_count": null,
   "id": "6cf27a43-129e-4127-80f9-f18c10ca4b35",
   "metadata": {},
   "outputs": [],
   "source": []
  },
  {
   "cell_type": "code",
   "execution_count": null,
   "id": "8677541b-0eed-45c5-a796-8623b311de40",
   "metadata": {},
   "outputs": [],
   "source": []
  },
  {
   "cell_type": "markdown",
   "id": "32887831-b58a-4ac4-b607-3a48f3d0145a",
   "metadata": {},
   "source": [
    "#### Q41\n",
    "#### Find the sum of the first n even numbers using a for loop:"
   ]
  },
  {
   "cell_type": "code",
   "execution_count": 240,
   "id": "aa693c09-0142-4c06-90f0-57c46e90a82d",
   "metadata": {},
   "outputs": [
    {
     "name": "stdout",
     "output_type": "stream",
     "text": [
      "30\n"
     ]
    }
   ],
   "source": [
    "def sum_even_numbers(n):\n",
    "    return sum(i for i in range(2, 2 * n + 1, 2))\n",
    "print(sum_even_numbers(5))"
   ]
  },
  {
   "cell_type": "code",
   "execution_count": null,
   "id": "244abe94-15bd-4213-a436-62fe07808631",
   "metadata": {},
   "outputs": [],
   "source": []
  },
  {
   "cell_type": "markdown",
   "id": "954d658d-1bd4-40bc-978b-be3b19467176",
   "metadata": {},
   "source": [
    "#### Q42\n",
    "#### Count the number of words in a sentence using a for loop:"
   ]
  },
  {
   "cell_type": "code",
   "execution_count": 246,
   "id": "67cba787-0083-46ee-b0b7-8e944c055846",
   "metadata": {},
   "outputs": [
    {
     "name": "stdout",
     "output_type": "stream",
     "text": [
      "4\n"
     ]
    }
   ],
   "source": [
    "def count_words(sentence):\n",
    "    count = 0\n",
    "    for word in sentence.split():\n",
    "        count += 1\n",
    "    return count\n",
    "print(count_words(\"My name is Vijayarajan\"))"
   ]
  },
  {
   "cell_type": "code",
   "execution_count": null,
   "id": "2bcfc212-4dc7-4564-908e-119b35258b15",
   "metadata": {},
   "outputs": [],
   "source": []
  },
  {
   "cell_type": "markdown",
   "id": "85e4ee96-6d59-4060-87a9-92517c7c7b71",
   "metadata": {},
   "source": [
    "#### Q43\n",
    "#### Write a program to check whether two numbers are amicable or not (take the input from user)."
   ]
  },
  {
   "cell_type": "code",
   "execution_count": 247,
   "id": "3fc00e22-e8e8-4207-96b0-50735c099d36",
   "metadata": {},
   "outputs": [
    {
     "name": "stdin",
     "output_type": "stream",
     "text": [
      "Enter the first number:  220\n",
      "Enter the second number:  284\n"
     ]
    },
    {
     "name": "stdout",
     "output_type": "stream",
     "text": [
      "220 and 284 are amicable numbers.\n"
     ]
    }
   ],
   "source": [
    "def is_amicable(num1, num2):\n",
    "  \"\"\"Checks if two numbers are amicable.\"\"\"\n",
    "  sum1 = sum_of_divisors(num1)\n",
    "  sum2 = sum_of_divisors(num2)\n",
    "  return sum1 == num2 and sum2 == num1\n",
    "\n",
    "num1 = int(input(\"Enter the first number: \"))\n",
    "num2 = int(input(\"Enter the second number: \"))\n",
    "\n",
    "if is_amicable(num1, num2):\n",
    "  print(f\"{num1} and {num2} are amicable numbers.\")\n",
    "else:\n",
    "  print(f\"{num1} and {num2} are not amicable numbers.\")"
   ]
  },
  {
   "cell_type": "markdown",
   "id": "2652aba4-66b3-4787-bdc3-ad8a01cb5d48",
   "metadata": {},
   "source": [
    "#### Q44\n",
    "#### Find the first missing positive integer:"
   ]
  },
  {
   "cell_type": "code",
   "execution_count": 248,
   "id": "53be2dda-0965-43fc-89e1-f1549aeda53e",
   "metadata": {},
   "outputs": [
    {
     "name": "stdout",
     "output_type": "stream",
     "text": [
      "2\n"
     ]
    }
   ],
   "source": [
    "def first_missing_positive(nums):\n",
    "    nums = set(nums)\n",
    "    i = 1\n",
    "    while i in nums:\n",
    "        i += 1\n",
    "    return i\n",
    "print(first_missing_positive([3, 4, -1, 1]))"
   ]
  },
  {
   "cell_type": "markdown",
   "id": "b93dcf44-c809-4cdd-9af8-4b02716ca73f",
   "metadata": {},
   "source": [
    "#### Q45\n",
    "#### Calculate the compound interest:"
   ]
  },
  {
   "cell_type": "code",
   "execution_count": 250,
   "id": "7828519a-3234-4744-b1c6-5a74a40562b8",
   "metadata": {},
   "outputs": [
    {
     "name": "stdout",
     "output_type": "stream",
     "text": [
      "1102.5\n"
     ]
    }
   ],
   "source": [
    "def CI(principal, rate, time):\n",
    "    return principal * (1 + rate / 100) ** time\n",
    "print(CI(1000, 5, 2))"
   ]
  },
  {
   "cell_type": "markdown",
   "id": "f5b4089f-ffcf-4b5e-b340-98a90bc65b29",
   "metadata": {},
   "source": [
    "#### Q46\n",
    "#### Split the bill equally among friends"
   ]
  },
  {
   "cell_type": "code",
   "execution_count": 252,
   "id": "80389512-f9bc-4823-b748-3ee333c7b891",
   "metadata": {},
   "outputs": [
    {
     "name": "stdout",
     "output_type": "stream",
     "text": [
      "500.6666666666667\n"
     ]
    }
   ],
   "source": [
    "def split_bill(total_amount, num_friends):\n",
    "    return total_amount / num_friends\n",
    "print(split_bill(1502, 3))"
   ]
  },
  {
   "cell_type": "markdown",
   "id": "8598ecae-0d8a-4ee8-a54e-1d708624c448",
   "metadata": {},
   "source": [
    "#### Q47\n",
    "#### Convert Fahrenheit to Celsius:"
   ]
  },
  {
   "cell_type": "code",
   "execution_count": 253,
   "id": "758de769-43db-448f-b837-fca42cee909a",
   "metadata": {},
   "outputs": [
    {
     "name": "stdout",
     "output_type": "stream",
     "text": [
      "37.0\n"
     ]
    }
   ],
   "source": [
    "def fahrenheit_to_celsius(f):\n",
    "    return (f - 32) * 5/9\n",
    "print(fahrenheit_to_celsius(98.6))"
   ]
  },
  {
   "cell_type": "markdown",
   "id": "22cffd84-419a-4d34-8e75-ab8b14e93320",
   "metadata": {},
   "source": [
    "#### Q48\n",
    "#### Calculate the average speed given distance and time:"
   ]
  },
  {
   "cell_type": "code",
   "execution_count": 254,
   "id": "984774f8-53b5-4d3a-b39b-abc8e498c242",
   "metadata": {},
   "outputs": [
    {
     "name": "stdout",
     "output_type": "stream",
     "text": [
      "50.0\n"
     ]
    }
   ],
   "source": [
    "def average_speed(distance, time):\n",
    "    return distance / time\n",
    "print(average_speed(150, 3))"
   ]
  },
  {
   "cell_type": "markdown",
   "id": "924c028b-f8ec-4ede-a90a-036ea992384e",
   "metadata": {},
   "source": [
    "#### Q49\n",
    "#### Convert hours and minutes to total minutes:"
   ]
  },
  {
   "cell_type": "code",
   "execution_count": 255,
   "id": "62c15f8a-5596-4636-842b-71819d657b91",
   "metadata": {},
   "outputs": [
    {
     "name": "stdout",
     "output_type": "stream",
     "text": [
      "150\n"
     ]
    }
   ],
   "source": [
    "def to_minutes(hours, minutes):\n",
    "    return hours * 60 + minutes\n",
    "print(to_minutes(2, 30))"
   ]
  },
  {
   "cell_type": "code",
   "execution_count": null,
   "id": "c953aecc-51ea-4cc4-9269-b4633b713f85",
   "metadata": {},
   "outputs": [],
   "source": []
  },
  {
   "cell_type": "markdown",
   "id": "9d9d594f-f9bf-4728-a3c2-d0e44cbad392",
   "metadata": {},
   "source": [
    "### Q50\n",
    "#### Calculate the number of complete weeks and remaining days given a total number of days:"
   ]
  },
  {
   "cell_type": "code",
   "execution_count": 262,
   "id": "553ff72b-59f9-49ef-9401-91fa8cb480d8",
   "metadata": {},
   "outputs": [
    {
     "name": "stdout",
     "output_type": "stream",
     "text": [
      "(92, 6)\n"
     ]
    }
   ],
   "source": [
    "def weeks_and_days(total_days):\n",
    "    weeks = total_days // 7\n",
    "    days = total_days % 7\n",
    "    return weeks, days\n",
    "total_days = 650\n",
    "print(weeks_and_days(total_days))"
   ]
  }
 ],
 "metadata": {
  "kernelspec": {
   "display_name": "Python 3 (ipykernel)",
   "language": "python",
   "name": "python3"
  },
  "language_info": {
   "codemirror_mode": {
    "name": "ipython",
    "version": 3
   },
   "file_extension": ".py",
   "mimetype": "text/x-python",
   "name": "python",
   "nbconvert_exporter": "python",
   "pygments_lexer": "ipython3",
   "version": "3.11.7"
  }
 },
 "nbformat": 4,
 "nbformat_minor": 5
}
