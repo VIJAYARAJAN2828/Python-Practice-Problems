{
 "cells": [
  {
   "cell_type": "markdown",
   "id": "17fd790e-9d50-4afe-a6a6-f01499063379",
   "metadata": {},
   "source": [
    "# While loop"
   ]
  },
  {
   "cell_type": "markdown",
   "id": "6be1d08b-38b8-4732-bdee-df00a93dd9ae",
   "metadata": {},
   "source": [
    "#### 1. Create a list of the first 10 Fibonacci numbers using list comprehension."
   ]
  },
  {
   "cell_type": "code",
   "execution_count": 103,
   "id": "7cd97690-149a-43ba-9753-f1f980d0d144",
   "metadata": {},
   "outputs": [
    {
     "name": "stdout",
     "output_type": "stream",
     "text": [
      "0\n",
      "1\n",
      "1\n",
      "2\n",
      "3\n",
      "5\n",
      "8\n",
      "13\n",
      "21\n",
      "34\n"
     ]
    }
   ],
   "source": [
    "num1,num2=(0,1)\n",
    "cnt=0\n",
    "while cnt<10:\n",
    "    print(num1)\n",
    "    num1,num2=num2,num1+num2\n",
    "    cnt+=1"
   ]
  },
  {
   "cell_type": "code",
   "execution_count": 2,
   "id": "66adfb37-4a85-406b-83ac-e2520a3f9c78",
   "metadata": {},
   "outputs": [
    {
     "name": "stdout",
     "output_type": "stream",
     "text": [
      "[0, 1, 1, 2, 3, 5, 8, 13, 21, 34, 55]\n"
     ]
    }
   ],
   "source": [
    "def fibonacci(n=10):\n",
    "  fib_list = [0, 1]\n",
    "  for i in range(2, n+1):\n",
    "    fib_list.append(fib_list[i-1] + fib_list[i-2])\n",
    "  print(fib_list)\n",
    "fibonacci()"
   ]
  },
  {
   "cell_type": "code",
   "execution_count": null,
   "id": "46efa220-2fe1-49c1-b507-eab8564b61f1",
   "metadata": {},
   "outputs": [],
   "source": []
  },
  {
   "cell_type": "markdown",
   "id": "8fdbb2ea-67ec-4c1c-b06c-811e31674889",
   "metadata": {},
   "source": [
    "#### 2.Write a program that asks the user to enter a number greater than 10. If the user enters a number less than or equal to 10, prompt them to try again."
   ]
  },
  {
   "cell_type": "code",
   "execution_count": 7,
   "id": "5d88ce94-07f8-48c4-9d2c-e558f21b2f84",
   "metadata": {},
   "outputs": [
    {
     "name": "stdin",
     "output_type": "stream",
     "text": [
      "Enter a number which is greater than 10 :  4\n"
     ]
    },
    {
     "name": "stdout",
     "output_type": "stream",
     "text": [
      "Thats not a number which is greater than 10 Please try again\n"
     ]
    },
    {
     "name": "stdin",
     "output_type": "stream",
     "text": [
      "Enter a number  which is greater than 10 :  6\n"
     ]
    },
    {
     "name": "stdout",
     "output_type": "stream",
     "text": [
      "Thats not a number which is greater than 10 Please try again\n"
     ]
    },
    {
     "name": "stdin",
     "output_type": "stream",
     "text": [
      "Enter a number  which is greater than 10 :  00\n"
     ]
    },
    {
     "name": "stdout",
     "output_type": "stream",
     "text": [
      "Thats not a number which is greater than 10 Please try again\n"
     ]
    },
    {
     "name": "stdin",
     "output_type": "stream",
     "text": [
      "Enter a number  which is greater than 10 :  99\n"
     ]
    },
    {
     "name": "stdout",
     "output_type": "stream",
     "text": [
      "Thank you for entering a number grreater than 10\n"
     ]
    }
   ],
   "source": [
    "number=int(input('Enter a number which is greater than 10 : '))\n",
    "while number<10:\n",
    "    print('Thats not a number which is greater than 10 Please try again')\n",
    "    number=int(input('Enter a number  which is greater than 10 : '))\n",
    "print('Thank you for entering a number grreater than 10')"
   ]
  },
  {
   "cell_type": "code",
   "execution_count": null,
   "id": "24eb142c-6cca-42e5-9120-3d9b8addc5d7",
   "metadata": {},
   "outputs": [],
   "source": []
  },
  {
   "cell_type": "markdown",
   "id": "6b1e5379-a4fb-4bf2-a527-578167ccca89",
   "metadata": {},
   "source": [
    "#### 3.Question: Write a program that sums numbers entered by the user until the user enters 0."
   ]
  },
  {
   "cell_type": "code",
   "execution_count": 9,
   "id": "6a3d4d26-0ee5-433b-9656-c47d553dd76f",
   "metadata": {},
   "outputs": [
    {
     "name": "stdin",
     "output_type": "stream",
     "text": [
      "Enter a number :  2\n",
      "Enter a number :  3\n",
      "Enter a number :  4\n",
      "Enter a number :  5\n",
      "Enter a number :  1\n",
      "Enter a number :  0\n"
     ]
    },
    {
     "name": "stdout",
     "output_type": "stream",
     "text": [
      "Thank you! The sum is 15\n"
     ]
    }
   ],
   "source": [
    "emp=[]\n",
    "starting_number=1\n",
    "while starting_number!=0:\n",
    "    starting_number=int(input('Enter a number : '))\n",
    "    emp.append(starting_number)\n",
    "\n",
    "print(f'Thank you! The sum is {sum(emp)}')"
   ]
  },
  {
   "cell_type": "code",
   "execution_count": null,
   "id": "92f779f8-7d4f-46b8-9e5b-a5733027e4f8",
   "metadata": {},
   "outputs": [],
   "source": []
  },
  {
   "cell_type": "markdown",
   "id": "4d811553-7a1d-49fd-83eb-eb20db58f4db",
   "metadata": {},
   "source": [
    "#### 4. Write a guessing game where the user has to guess a secret number between 1 and 100. The program should keep asking the user to guess until they get it right."
   ]
  },
  {
   "cell_type": "code",
   "execution_count": 10,
   "id": "db2dffc1-e96d-45f6-8601-043a43a897ce",
   "metadata": {},
   "outputs": [],
   "source": [
    "import numpy as np"
   ]
  },
  {
   "cell_type": "code",
   "execution_count": 110,
   "id": "34c83e3f-7f85-4224-84b6-bb26c7940d7b",
   "metadata": {},
   "outputs": [
    {
     "name": "stdin",
     "output_type": "stream",
     "text": [
      "Guess the number :  56\n"
     ]
    },
    {
     "name": "stdout",
     "output_type": "stream",
     "text": [
      "Your Guess number is High\n",
      "You have 10 attempts left \n"
     ]
    },
    {
     "name": "stdin",
     "output_type": "stream",
     "text": [
      "Enter a number :  25\n"
     ]
    },
    {
     "name": "stdout",
     "output_type": "stream",
     "text": [
      "Your Guess number is High\n",
      "You have 9 attempts left \n"
     ]
    },
    {
     "name": "stdin",
     "output_type": "stream",
     "text": [
      "Enter a number :  15\n"
     ]
    },
    {
     "name": "stdout",
     "output_type": "stream",
     "text": [
      "Your Guess number is low \n",
      "You have 8 attempts left \n"
     ]
    },
    {
     "name": "stdin",
     "output_type": "stream",
     "text": [
      "Enter a number :  20\n"
     ]
    },
    {
     "name": "stdout",
     "output_type": "stream",
     "text": [
      "Your Guess number is High\n",
      "You have 7 attempts left \n"
     ]
    },
    {
     "name": "stdin",
     "output_type": "stream",
     "text": [
      "Enter a number :  17\n"
     ]
    },
    {
     "name": "stdout",
     "output_type": "stream",
     "text": [
      "The actual number is 17\n"
     ]
    }
   ],
   "source": [
    "number=np.random.randint(1,101)\n",
    "atmp=10\n",
    "guess_number=int(input('Guess the number : '))\n",
    "while guess_number!=number:\n",
    "    if guess_number<number:\n",
    "        print('Your Guess number is low ')\n",
    "    if guess_number>number:\n",
    "        print('Your Guess number is High')\n",
    "    print(f'You have {atmp} attempts left ')\n",
    "    guess_number=int(input('Enter a number : '))\n",
    "    atmp-=1\n",
    "    if atmp==0:\n",
    "        break\n",
    "print(f'The actual number is {number}')"
   ]
  },
  {
   "cell_type": "code",
   "execution_count": null,
   "id": "327459dd-37cb-4b02-b03a-306c9408d440",
   "metadata": {},
   "outputs": [],
   "source": []
  },
  {
   "cell_type": "markdown",
   "id": "48266848-6bb2-4250-bf9f-b230d751439c",
   "metadata": {},
   "source": [
    "#### 5.  Write a program to calculate the factorial of a given number using a while loop."
   ]
  },
  {
   "cell_type": "code",
   "execution_count": 111,
   "id": "ceb3c027-73f6-4938-b1a6-8575dfa8faf6",
   "metadata": {},
   "outputs": [
    {
     "name": "stdin",
     "output_type": "stream",
     "text": [
      "Enter a number:  6\n"
     ]
    },
    {
     "name": "stdout",
     "output_type": "stream",
     "text": [
      "720\n"
     ]
    }
   ],
   "source": [
    "n = int(input(\"Enter a number: \"))\n",
    "result = 1\n",
    "while n >= 1:\n",
    "  result *= n\n",
    "  n -= 1\n",
    "print(result)"
   ]
  },
  {
   "cell_type": "code",
   "execution_count": null,
   "id": "2d6f1d26-b42d-430d-a7d0-dfd143aa189c",
   "metadata": {},
   "outputs": [],
   "source": []
  },
  {
   "cell_type": "markdown",
   "id": "5b842591-f04d-455b-80b3-31e12021f6ff",
   "metadata": {},
   "source": [
    "#### 6.Write a program that checks if a given number is prime using a while loop."
   ]
  },
  {
   "cell_type": "code",
   "execution_count": 220,
   "id": "2b414b24-5004-493a-8397-dbace8f9909c",
   "metadata": {},
   "outputs": [
    {
     "name": "stdin",
     "output_type": "stream",
     "text": [
      "Enter a number :  169\n"
     ]
    },
    {
     "name": "stdout",
     "output_type": "stream",
     "text": [
      "Not a prime number\n"
     ]
    }
   ],
   "source": [
    "number=int(input('Enter a number : '))\n",
    "prime=[i for i in range(1,number+1) if all(i%j!=0 for j in range(2,num-1))]\n",
    "if number in prime:\n",
    "    print('Yes its a prime number')\n",
    "else:\n",
    "    print('Not a prime number')"
   ]
  },
  {
   "cell_type": "code",
   "execution_count": 114,
   "id": "2d5fc44a-27ee-41fa-833a-eefb40f3330b",
   "metadata": {},
   "outputs": [
    {
     "name": "stdin",
     "output_type": "stream",
     "text": [
      "Enter a number :  17\n"
     ]
    },
    {
     "name": "stdout",
     "output_type": "stream",
     "text": [
      "Yes its a prime number\n"
     ]
    }
   ],
   "source": [
    "number=int(input('Enter a number : '))\n",
    "count=0\n",
    "div=2\n",
    "if number==0:\n",
    "    print('Its not a prime number')\n",
    "else:\n",
    "    while div <= number-1:\n",
    "        if number % div==0:\n",
    "            count+=1\n",
    "            break\n",
    "        div+=1\n",
    "    if count==0:\n",
    "        print('Yes its a prime number')\n",
    "    else:\n",
    "        print('No its not a prime number')"
   ]
  },
  {
   "cell_type": "code",
   "execution_count": null,
   "id": "b4047fb2-3fa1-4398-aad0-995588191791",
   "metadata": {},
   "outputs": [],
   "source": []
  },
  {
   "cell_type": "markdown",
   "id": "6ecac458-8b40-4115-b5dc-0662cd53c472",
   "metadata": {},
   "source": [
    "#### 7.Write a program to reverse the digits of a given number using a while loop."
   ]
  },
  {
   "cell_type": "code",
   "execution_count": 79,
   "id": "498c9fc4-80d5-46bc-96c7-4dc613979b3d",
   "metadata": {},
   "outputs": [
    {
     "name": "stdin",
     "output_type": "stream",
     "text": [
      "Enter a nuumber :  12345\n"
     ]
    },
    {
     "name": "stdout",
     "output_type": "stream",
     "text": [
      "54321\n"
     ]
    }
   ],
   "source": [
    "number=int(input('Enter a nuumber : '))\n",
    "reversed_digit=0\n",
    "while number>0:\n",
    "    digit=number%10\n",
    "    reversed_digit=reversed_digit*10+digit\n",
    "    number//=10\n",
    "print(reversed_digit)"
   ]
  },
  {
   "cell_type": "code",
   "execution_count": null,
   "id": "c1ac7b49-e964-429c-b269-125d879dc705",
   "metadata": {},
   "outputs": [],
   "source": []
  },
  {
   "cell_type": "markdown",
   "id": "7843a841-cd41-4997-9477-f8e9e30e02ee",
   "metadata": {},
   "source": [
    "#### 8.Write a program to print a pattern of stars in a pyramid shape using a while loop."
   ]
  },
  {
   "cell_type": "code",
   "execution_count": 138,
   "id": "2da0658e-e131-41fc-b98c-502f90d5fa00",
   "metadata": {},
   "outputs": [
    {
     "name": "stdout",
     "output_type": "stream",
     "text": [
      "    *\n",
      "   ***\n",
      "  *****\n",
      " *******\n",
      "*********\n"
     ]
    }
   ],
   "source": [
    "n = 5\n",
    "i = 1\n",
    "while i <= n:\n",
    "    print(' ' * (n - i) + '*' * (2 * i-1))\n",
    "    i+=1"
   ]
  },
  {
   "cell_type": "code",
   "execution_count": 121,
   "id": "32cad144-b5dd-4ae3-979e-964c1ca8ec8f",
   "metadata": {},
   "outputs": [
    {
     "name": "stdout",
     "output_type": "stream",
     "text": [
      "      *\n",
      "     ***\n",
      "    *****\n",
      "   *******\n",
      "  *********\n",
      " ***********\n",
      "*************\n"
     ]
    }
   ],
   "source": [
    "n = 7\n",
    "i = 1\n",
    "while i <= n:\n",
    "    print(' ' * (n-i) + '*'*(2*i-1))\n",
    "    i += 1"
   ]
  },
  {
   "cell_type": "code",
   "execution_count": null,
   "id": "7acb11ce-3422-42c0-b5be-49386327708a",
   "metadata": {},
   "outputs": [],
   "source": []
  },
  {
   "cell_type": "markdown",
   "id": "c8b65043-b6a0-4032-89d5-2923aa7b0f83",
   "metadata": {},
   "source": [
    "# For loops"
   ]
  },
  {
   "cell_type": "markdown",
   "id": "f6163857-0d99-4187-9233-6c81b5ae326e",
   "metadata": {},
   "source": [
    "#### 1. Write a Python program that prints all numbers from 1 to 100 that are divisible by 7."
   ]
  },
  {
   "cell_type": "code",
   "execution_count": 139,
   "id": "fbcba88f-ce98-416e-97c4-3969df61a820",
   "metadata": {},
   "outputs": [
    {
     "data": {
      "text/plain": [
       "[7, 14, 21, 28, 35, 42, 49, 56, 63, 70, 77, 84, 91, 98]"
      ]
     },
     "execution_count": 139,
     "metadata": {},
     "output_type": "execute_result"
    }
   ],
   "source": [
    "[i for i in range(1,101) if i%7==0]"
   ]
  },
  {
   "cell_type": "code",
   "execution_count": null,
   "id": "01987bd5-aaa4-49a1-adf2-db37b5d666fc",
   "metadata": {},
   "outputs": [],
   "source": []
  },
  {
   "cell_type": "markdown",
   "id": "79812cb2-2898-4575-bf3c-0c644fcd1a4c",
   "metadata": {},
   "source": [
    "#### 2.Given a list of integers, create a new list with each number squared, but only include numbers greater than 10."
   ]
  },
  {
   "cell_type": "code",
   "execution_count": 141,
   "id": "cc7a1d44-bb4d-47fb-877f-c2ef7a580c36",
   "metadata": {},
   "outputs": [
    {
     "name": "stdout",
     "output_type": "stream",
     "text": [
      "1\n",
      "4\n",
      "9\n",
      "16\n",
      "25\n",
      "36\n",
      "49\n",
      "64\n",
      "81\n",
      "100\n"
     ]
    }
   ],
   "source": [
    "numbers=[1,2,3,4,5,6,7,8,9,10]\n",
    "for i in numbers:\n",
    "    print(i*i)"
   ]
  },
  {
   "cell_type": "code",
   "execution_count": 172,
   "id": "e1a91c70-e9bd-49a1-ad3e-af942d900dc6",
   "metadata": {},
   "outputs": [
    {
     "data": {
      "text/plain": [
       "[8281, 81, 324, 3364, 8281, 3481, 5041, 3364, 1521, 25]"
      ]
     },
     "execution_count": 172,
     "metadata": {},
     "output_type": "execute_result"
    }
   ],
   "source": [
    "[i*i for i in np.random.randint(1,100,10)]"
   ]
  },
  {
   "cell_type": "code",
   "execution_count": null,
   "id": "712879a7-38f9-459b-a75c-24be029bc2aa",
   "metadata": {},
   "outputs": [],
   "source": []
  },
  {
   "cell_type": "markdown",
   "id": "7f4b4dc3-aa2a-4070-b624-27205c981a8c",
   "metadata": {},
   "source": [
    "#### 4.Write a program that generates a 5x5 multiplication table using nested for loops."
   ]
  },
  {
   "cell_type": "code",
   "execution_count": 175,
   "id": "e18dffea-5bff-4e69-bfcf-27f3d1536817",
   "metadata": {},
   "outputs": [
    {
     "data": {
      "text/plain": [
       "['1x0=0',\n",
       " '1x1=1',\n",
       " '1x2=2',\n",
       " '1x3=3',\n",
       " '1x4=4',\n",
       " '1x5=5',\n",
       " '2x0=0',\n",
       " '2x1=2',\n",
       " '2x2=4',\n",
       " '2x3=6',\n",
       " '2x4=8',\n",
       " '2x5=10',\n",
       " '3x0=0',\n",
       " '3x1=3',\n",
       " '3x2=6',\n",
       " '3x3=9',\n",
       " '3x4=12',\n",
       " '3x5=15',\n",
       " '4x0=0',\n",
       " '4x1=4',\n",
       " '4x2=8',\n",
       " '4x3=12',\n",
       " '4x4=16',\n",
       " '4x5=20',\n",
       " '5x0=0',\n",
       " '5x1=5',\n",
       " '5x2=10',\n",
       " '5x3=15',\n",
       " '5x4=20',\n",
       " '5x5=25']"
      ]
     },
     "execution_count": 175,
     "metadata": {},
     "output_type": "execute_result"
    }
   ],
   "source": [
    "[f'{i}x{j}={i*j}' for i in range(1,6) for j in range(6)]"
   ]
  },
  {
   "cell_type": "code",
   "execution_count": null,
   "id": "1b3476e4-d1ca-4d8a-8ec7-aba067a2774c",
   "metadata": {},
   "outputs": [],
   "source": []
  },
  {
   "cell_type": "markdown",
   "id": "556d1377-8b6b-4e78-af67-3fa4023529a0",
   "metadata": {},
   "source": [
    "#### 5.Given a list of strings, write a Python program that concatenates all strings with a length greater than 3, separated by commas."
   ]
  },
  {
   "cell_type": "code",
   "execution_count": 176,
   "id": "bff9f76e-9688-4ebd-8fdc-5d2686dd0ddb",
   "metadata": {},
   "outputs": [
    {
     "name": "stdout",
     "output_type": "stream",
     "text": [
      "['apple', 'fruit', 'banana']\n"
     ]
    }
   ],
   "source": [
    "strings = [\"apple\", \"is\", \"a\", \"fruit\", \"banana\"]\n",
    "emp=[]\n",
    "for i in strings:\n",
    "    if len(i)>3:\n",
    "        emp.append(i)\n",
    "print(emp)"
   ]
  },
  {
   "cell_type": "code",
   "execution_count": null,
   "id": "13ce5e02-dcbb-4b76-b42c-bc73673aa68e",
   "metadata": {},
   "outputs": [],
   "source": []
  },
  {
   "cell_type": "markdown",
   "id": "50602e00-a4c4-4975-90d3-4df2ea8804a3",
   "metadata": {},
   "source": [
    "#### 6. Given a dictionary with names as keys and ages as values, write a program that prints each name with their corresponding age only if the age is greater than 30."
   ]
  },
  {
   "cell_type": "code",
   "execution_count": 177,
   "id": "946931fa-74e4-4761-b53d-c19465cbc95c",
   "metadata": {},
   "outputs": [],
   "source": [
    "ages = {\n",
    "    \"Alice\": 25,\n",
    "    \"Bob\": 35,\n",
    "    \"Charlie\": 30,\n",
    "    \"David\": 40\n",
    "}"
   ]
  },
  {
   "cell_type": "code",
   "execution_count": 181,
   "id": "3bdb52fa-242f-49a3-8440-518abe73e773",
   "metadata": {},
   "outputs": [
    {
     "data": {
      "text/plain": [
       "['Bob:35', 'David:40']"
      ]
     },
     "execution_count": 181,
     "metadata": {},
     "output_type": "execute_result"
    }
   ],
   "source": [
    "[f'{keys}:{values}' for keys,values in ages.items() if values>30]"
   ]
  },
  {
   "cell_type": "code",
   "execution_count": null,
   "id": "af267dec-32b7-4f6d-b31b-462a73dbf694",
   "metadata": {},
   "outputs": [],
   "source": []
  },
  {
   "cell_type": "markdown",
   "id": "9e6f2147-121d-46f8-a4b8-923aad6b82de",
   "metadata": {},
   "source": [
    "#### 7.Write a function that transposes a 3x3 matrix (i.e., flips it over its diagonal)."
   ]
  },
  {
   "cell_type": "code",
   "execution_count": 189,
   "id": "001e00da-ada8-4e07-abd1-8b70a6cbde56",
   "metadata": {},
   "outputs": [
    {
     "data": {
      "text/plain": [
       "array([[1, 1, 1],\n",
       "       [1, 1, 1],\n",
       "       [1, 1, 1]])"
      ]
     },
     "execution_count": 189,
     "metadata": {},
     "output_type": "execute_result"
    }
   ],
   "source": [
    "np.ones((3,3),dtype='int32')"
   ]
  },
  {
   "cell_type": "code",
   "execution_count": null,
   "id": "80388608-c27f-420c-a272-4511bea70b3c",
   "metadata": {},
   "outputs": [],
   "source": []
  },
  {
   "cell_type": "markdown",
   "id": "6250640d-9b63-4826-909a-ca977c02f9c4",
   "metadata": {},
   "source": [
    "#### 8.Write a program that generates the first 20 numbers of the Fibonacci sequence using a for loop."
   ]
  },
  {
   "cell_type": "code",
   "execution_count": 198,
   "id": "bd62f035-4aa5-45d6-a97c-55264051598a",
   "metadata": {},
   "outputs": [
    {
     "name": "stdout",
     "output_type": "stream",
     "text": [
      "[0, 1, 1, 2, 3, 5, 8, 13, 21, 34, 55, 89, 144, 233, 377, 610, 987, 1597, 2584, 4181, 6765, 10946]\n"
     ]
    }
   ],
   "source": [
    "y=[0,1]\n",
    "[y.append(y[-1]+y[-2]) for i in range(1,21)]\n",
    "print(y)"
   ]
  },
  {
   "cell_type": "code",
   "execution_count": null,
   "id": "831e02cd-bf58-42bb-9fea-ad7bf1b5e2ba",
   "metadata": {},
   "outputs": [],
   "source": []
  },
  {
   "cell_type": "markdown",
   "id": "fd118a20-1d8c-45bb-8cc2-2a15a968d51c",
   "metadata": {},
   "source": [
    "#### 9.Write a Python program that prints all prime numbers between 1 and 100."
   ]
  },
  {
   "cell_type": "code",
   "execution_count": 211,
   "id": "062cf657-9a75-4cc5-ae20-a81d4a05939e",
   "metadata": {},
   "outputs": [
    {
     "name": "stdout",
     "output_type": "stream",
     "text": [
      "[1, 2, 3, 5, 7, 11, 13, 17, 19, 23, 29, 31, 37, 41, 43, 47, 53, 59, 61, 67, 71, 73, 79, 83, 89, 97]\n"
     ]
    }
   ],
   "source": [
    "x=[i for i in range(1,101) if all(i%j!=0 for j in range(2,int(i**0.5)+1))]\n",
    "print(x)"
   ]
  },
  {
   "cell_type": "code",
   "execution_count": null,
   "id": "1712639d-d5a9-46af-a672-c1498f3f3996",
   "metadata": {},
   "outputs": [],
   "source": []
  },
  {
   "cell_type": "markdown",
   "id": "0e08a971-e305-4986-92a7-65960a0a8ad8",
   "metadata": {},
   "source": [
    "### 10. How to make nested list into single list"
   ]
  },
  {
   "cell_type": "code",
   "execution_count": 5,
   "id": "1897339c-9cfb-4254-b2ed-fb804c63b750",
   "metadata": {},
   "outputs": [
    {
     "name": "stdout",
     "output_type": "stream",
     "text": [
      "[10, 20, 3, 40, 5, 8, 9, 6]\n"
     ]
    }
   ],
   "source": [
    "def flatten(lst):\n",
    "    flattened_list = []\n",
    "    for item in lst:\n",
    "        if isinstance(item, list):\n",
    "            flattened_list.extend(flatten(item))\n",
    "        else:\n",
    "            flattened_list.append(item)\n",
    "    return flattened_list\n",
    "\n",
    "print(flatten([10, 20, [3, 40, [5, [8,9],6]]]))  # Output: [10, 20, 3, 40, 5, 6]"
   ]
  },
  {
   "cell_type": "code",
   "execution_count": null,
   "id": "d5cd3742-d75b-478e-937c-3089ed450432",
   "metadata": {},
   "outputs": [],
   "source": []
  }
 ],
 "metadata": {
  "kernelspec": {
   "display_name": "Python 3 (ipykernel)",
   "language": "python",
   "name": "python3"
  },
  "language_info": {
   "codemirror_mode": {
    "name": "ipython",
    "version": 3
   },
   "file_extension": ".py",
   "mimetype": "text/x-python",
   "name": "python",
   "nbconvert_exporter": "python",
   "pygments_lexer": "ipython3",
   "version": "3.11.7"
  }
 },
 "nbformat": 4,
 "nbformat_minor": 5
}
