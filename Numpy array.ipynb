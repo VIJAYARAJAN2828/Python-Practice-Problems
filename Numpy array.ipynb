{
 "cells": [
  {
   "cell_type": "markdown",
   "id": "82dc702f-8acf-4c2a-b23b-1a47dc01a9c2",
   "metadata": {},
   "source": [
    "### 1.Write a Python function create_2d_array() that creates and returns a 2D NumPy array with the following data:"
   ]
  },
  {
   "cell_type": "code",
   "execution_count": 1,
   "id": "18147730-a158-44de-8b34-d071c450a927",
   "metadata": {},
   "outputs": [],
   "source": [
    "import numpy as np"
   ]
  },
  {
   "cell_type": "code",
   "execution_count": 2,
   "id": "177c33a6-287d-4c2f-917c-9124df242a91",
   "metadata": {},
   "outputs": [
    {
     "data": {
      "text/plain": [
       "array([[1, 2, 3],\n",
       "       [4, 5, 6],\n",
       "       [7, 8, 9]])"
      ]
     },
     "execution_count": 2,
     "metadata": {},
     "output_type": "execute_result"
    }
   ],
   "source": [
    "x=[[1, 2, 3],\n",
    " [4, 5, 6],\n",
    " [7, 8, 9]]\n",
    "arr=np.array(x)\n",
    "arr"
   ]
  },
  {
   "cell_type": "code",
   "execution_count": 4,
   "id": "5814a678-f755-4900-b40d-c1162658ad01",
   "metadata": {},
   "outputs": [
    {
     "data": {
      "text/plain": [
       "(1, 3)"
      ]
     },
     "execution_count": 4,
     "metadata": {},
     "output_type": "execute_result"
    }
   ],
   "source": [
    "y=np.array([[2,3,4]])\n",
    "y.shape"
   ]
  },
  {
   "cell_type": "markdown",
   "id": "8bbe2db6-1747-417d-944f-ebd1e80d7c61",
   "metadata": {},
   "source": [
    "### 2.Write a Python function create_3d_array() that creates and returns a 3D NumPy array with shape     (2, 3, 4) where all the values are initialized to zero."
   ]
  },
  {
   "cell_type": "code",
   "execution_count": 6,
   "id": "281ca607-e404-4cb0-89d5-3cc73d3e0d1a",
   "metadata": {},
   "outputs": [
    {
     "data": {
      "text/plain": [
       "array([[[0., 0., 0., 0.],\n",
       "        [0., 0., 0., 0.],\n",
       "        [0., 0., 0., 0.]],\n",
       "\n",
       "       [[0., 0., 0., 0.],\n",
       "        [0., 0., 0., 0.],\n",
       "        [0., 0., 0., 0.]]])"
      ]
     },
     "execution_count": 6,
     "metadata": {},
     "output_type": "execute_result"
    }
   ],
   "source": [
    "np.zeros((2,3,4))"
   ]
  },
  {
   "cell_type": "code",
   "execution_count": null,
   "id": "3ff330fb-2b60-4641-82c7-4ace5e2eb0a0",
   "metadata": {},
   "outputs": [],
   "source": []
  },
  {
   "cell_type": "markdown",
   "id": "f133f2e1-efbf-44c4-82e4-f6489c09926d",
   "metadata": {},
   "source": [
    "### 3. Write a Python function create_1d_array_range() that creates and returns a 1D NumPy array with values from 10 to 20 (inclusive) using np.arange()"
   ]
  },
  {
   "cell_type": "code",
   "execution_count": 7,
   "id": "3199c2ea-3c75-4d7d-bcd5-7aa005caa096",
   "metadata": {},
   "outputs": [
    {
     "data": {
      "text/plain": [
       "array([10, 11, 12, 13, 14, 15, 16, 17, 18, 19])"
      ]
     },
     "execution_count": 7,
     "metadata": {},
     "output_type": "execute_result"
    }
   ],
   "source": [
    "np.arange(10,20)"
   ]
  },
  {
   "cell_type": "code",
   "execution_count": null,
   "id": "93570ebc-fc09-49a7-9979-9178e877c8a4",
   "metadata": {},
   "outputs": [],
   "source": []
  },
  {
   "cell_type": "markdown",
   "id": "5c06a8f3-c0be-43a5-9650-874c82ffcd88",
   "metadata": {},
   "source": [
    "### 4.Write a Python function create_random_2d_array() that creates and returns a 2D NumPy array with shape (3, 4) where all the values are random numbers between 0 and 10 using np.random.rand()"
   ]
  },
  {
   "cell_type": "code",
   "execution_count": 29,
   "id": "c6d6fe53-6cda-4355-9c9c-128e49e76cf8",
   "metadata": {},
   "outputs": [
    {
     "data": {
      "text/plain": [
       "2"
      ]
     },
     "execution_count": 29,
     "metadata": {},
     "output_type": "execute_result"
    }
   ],
   "source": [
    "x=np.random.randint(0,11)\n",
    "x"
   ]
  },
  {
   "cell_type": "code",
   "execution_count": 46,
   "id": "6f21d8b4-d02a-48d6-9d5d-1b58c6f968b7",
   "metadata": {},
   "outputs": [
    {
     "name": "stdout",
     "output_type": "stream",
     "text": [
      "[[0.41522131 0.19175354 0.47366435 0.02047427]\n",
      " [0.34674949 0.55723041 0.05593347 0.48945713]\n",
      " [0.02038216 0.26506364 0.11085128 0.13078232]]\n"
     ]
    }
   ],
   "source": [
    "def create_random_2d_array():\n",
    "    array = np.random.rand(3,4)\n",
    "    return array\n",
    "\n",
    "array = create_random_2d_array()\n",
    "print(array)"
   ]
  },
  {
   "cell_type": "code",
   "execution_count": null,
   "id": "1a566eed-9a81-47a1-9ec9-6a2ff8160da4",
   "metadata": {},
   "outputs": [],
   "source": []
  },
  {
   "cell_type": "markdown",
   "id": "16ce5f06-de29-4c66-b1e2-1919cc0faf68",
   "metadata": {},
   "source": [
    "### 5.Write a Python function create_random_2d_array() that creates and returns a 2D NumPy array with shape (3, 4) where all the values are random numbers between 0 and 10 using np.random.rand()"
   ]
  },
  {
   "cell_type": "code",
   "execution_count": 65,
   "id": "de6866b4-2a63-41ca-84c0-25041afe8335",
   "metadata": {},
   "outputs": [
    {
     "name": "stdout",
     "output_type": "stream",
     "text": [
      "[[ 65  98  78  71]\n",
      " [ 26  71  58  54]\n",
      " [ 85  82 100  13]]\n"
     ]
    }
   ],
   "source": [
    "array = np.random.randint(1, 101, size=(3, 4))\n",
    "print(array)"
   ]
  },
  {
   "cell_type": "code",
   "execution_count": null,
   "id": "0e8d4acb-de9e-4c7b-a9bf-eac8e543f47b",
   "metadata": {},
   "outputs": [],
   "source": []
  },
  {
   "cell_type": "markdown",
   "id": "df7a89bc-398d-4d1f-9459-51baa5660f01",
   "metadata": {},
   "source": [
    "# Accessing the 1D,2D,3D array"
   ]
  },
  {
   "cell_type": "markdown",
   "id": "8d6b2d0c-1af2-4f01-ac9c-586cd9bda542",
   "metadata": {},
   "source": [
    "### 1. Create a 1D NumPy array of size 6 filled with the number 7. Replace the element at index 4 with the number 12, and print the updated array."
   ]
  },
  {
   "cell_type": "code",
   "execution_count": 100,
   "id": "53467973-ef54-4275-b9c0-f8a922c8b76b",
   "metadata": {},
   "outputs": [
    {
     "data": {
      "text/plain": [
       "array([[6, 9, 6],\n",
       "       [1, 1, 2],\n",
       "       [8, 6, 3]])"
      ]
     },
     "execution_count": 100,
     "metadata": {},
     "output_type": "execute_result"
    }
   ],
   "source": [
    "np.random.seed(1)\n",
    "x=np.random.randint(1,10,size=(3,3))\n",
    "x[2,1]=6\n",
    "x"
   ]
  },
  {
   "cell_type": "code",
   "execution_count": null,
   "id": "b3b4664c-ad34-4b1e-913b-6aa39b43f4b0",
   "metadata": {},
   "outputs": [],
   "source": []
  },
  {
   "cell_type": "markdown",
   "id": "4837718e-b907-4f64-826f-41005120f2ae",
   "metadata": {},
   "source": [
    "### 2. Create a 2D NumPy array of shape (3, 4) with the values from 1 to 12. Access and print the element in the second row and third column."
   ]
  },
  {
   "cell_type": "code",
   "execution_count": 102,
   "id": "09e675a1-96fe-43fa-8df8-1bc34e97bd2d",
   "metadata": {},
   "outputs": [
    {
     "data": {
      "text/plain": [
       "8"
      ]
     },
     "execution_count": 102,
     "metadata": {},
     "output_type": "execute_result"
    }
   ],
   "source": [
    "np.random.seed(1)\n",
    "x=np.random.randint(1,10,size=(3,4))\n",
    "x[1,2]"
   ]
  },
  {
   "cell_type": "code",
   "execution_count": null,
   "id": "198e3b63-f2fe-49d4-95a9-f8f842afe19f",
   "metadata": {},
   "outputs": [],
   "source": []
  },
  {
   "cell_type": "markdown",
   "id": "66b43d35-af04-4374-9c6f-79b7aba86c0a",
   "metadata": {},
   "source": [
    "### 3.Create a 2D NumPy array with the values [[10, 20, 30], [40, 50, 60], [70, 80, 90]]. Use slicing to extract and print the second row and all columns."
   ]
  },
  {
   "cell_type": "code",
   "execution_count": 106,
   "id": "94e58a8a-b123-4613-a21b-58bdf5d5f70d",
   "metadata": {},
   "outputs": [
    {
     "data": {
      "text/plain": [
       "array([[10, 20, 30],\n",
       "       [40, 50, 60]])"
      ]
     },
     "execution_count": 106,
     "metadata": {},
     "output_type": "execute_result"
    }
   ],
   "source": [
    "arr2=np.array([[10, 20, 30], [40, 50, 60], [70, 80, 90]])\n",
    "arr2[:2,:]"
   ]
  },
  {
   "cell_type": "code",
   "execution_count": null,
   "id": "da46e28e-7586-4269-b39c-c1de4108ead5",
   "metadata": {},
   "outputs": [],
   "source": []
  },
  {
   "cell_type": "markdown",
   "id": "71174af5-f15c-4812-82c7-b8839c444a30",
   "metadata": {},
   "source": [
    "### 4. Create a 2D NumPy array of shape (4, 3) filled with random integers between 1 and 100. Use slicing to extract the last two rows and the first two columns."
   ]
  },
  {
   "cell_type": "code",
   "execution_count": 111,
   "id": "533ec86c-517c-413e-af89-a7e107b7d635",
   "metadata": {},
   "outputs": [
    {
     "data": {
      "text/plain": [
       "array([[8, 7],\n",
       "       [5, 6]])"
      ]
     },
     "execution_count": 111,
     "metadata": {},
     "output_type": "execute_result"
    }
   ],
   "source": [
    "np.random.seed(1)\n",
    "x=np.random.randint(1,10,size=(4,3))\n",
    "x[-2:,0:2]"
   ]
  },
  {
   "cell_type": "code",
   "execution_count": null,
   "id": "11ad4660-3e18-40f6-996b-7cf61cdb69c2",
   "metadata": {},
   "outputs": [],
   "source": []
  },
  {
   "cell_type": "code",
   "execution_count": null,
   "id": "d9a776f8-ef0b-4a9b-8c9b-c27c9b3c8914",
   "metadata": {},
   "outputs": [],
   "source": []
  },
  {
   "cell_type": "code",
   "execution_count": null,
   "id": "8f169cc2-5b7b-46ac-8e17-0845d47069a4",
   "metadata": {},
   "outputs": [],
   "source": []
  }
 ],
 "metadata": {
  "kernelspec": {
   "display_name": "Python 3 (ipykernel)",
   "language": "python",
   "name": "python3"
  },
  "language_info": {
   "codemirror_mode": {
    "name": "ipython",
    "version": 3
   },
   "file_extension": ".py",
   "mimetype": "text/x-python",
   "name": "python",
   "nbconvert_exporter": "python",
   "pygments_lexer": "ipython3",
   "version": "3.11.7"
  }
 },
 "nbformat": 4,
 "nbformat_minor": 5
}
