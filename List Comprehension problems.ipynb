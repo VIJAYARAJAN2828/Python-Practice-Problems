{
 "cells": [
  {
   "cell_type": "markdown",
   "id": "8d7f8af6-2677-4137-8ca7-b96417939d0c",
   "metadata": {},
   "source": [
    "#### 1. Generate a list of the squares of all even numbers between 1 and 50."
   ]
  },
  {
   "cell_type": "code",
   "execution_count": 1,
   "id": "32f0eea9-f99e-427e-9afc-3d318daeaccf",
   "metadata": {},
   "outputs": [
    {
     "name": "stdout",
     "output_type": "stream",
     "text": [
      "[2, 4, 6, 8, 10, 12, 14, 16, 18, 20, 22, 24, 26, 28, 30, 32, 34, 36, 38, 40, 42, 44, 46, 48, 50]\n"
     ]
    }
   ],
   "source": [
    "x=[i for i in range(2,51,2)]\n",
    "print(x)"
   ]
  },
  {
   "cell_type": "code",
   "execution_count": null,
   "id": "71d80605-39ae-4915-8baf-7f133b89a135",
   "metadata": {},
   "outputs": [],
   "source": []
  },
  {
   "cell_type": "markdown",
   "id": "77cb88e1-194f-438b-a11c-0ea26de06f1f",
   "metadata": {},
   "source": [
    "#### 2.  Create a list of the first 100 Fibonacci numbers."
   ]
  },
  {
   "cell_type": "code",
   "execution_count": 77,
   "id": "e093e360-cae7-46dc-b1cc-bea4a12b8d07",
   "metadata": {},
   "outputs": [
    {
     "data": {
      "text/plain": [
       "[0, 1, 1, 2, 3, 5, 8, 13, 21, 34, 55, 89]"
      ]
     },
     "execution_count": 77,
     "metadata": {},
     "output_type": "execute_result"
    }
   ],
   "source": [
    "y=[0,1]\n",
    "[y.append(y[-1]+y[-2]) for i in range(1,11)]\n",
    "y"
   ]
  },
  {
   "cell_type": "code",
   "execution_count": null,
   "id": "18d7ae8b-d1cf-4499-9e36-5d0149a51e1e",
   "metadata": {},
   "outputs": [],
   "source": []
  },
  {
   "cell_type": "markdown",
   "id": "c9c73fbb-9f41-42c2-b45c-49763b11ea9e",
   "metadata": {},
   "source": [
    "#### 3. Generate a list of prime numbers between 1 and 100."
   ]
  },
  {
   "cell_type": "code",
   "execution_count": 1,
   "id": "81e79b78-235b-4d28-bd89-8ac75bdac00a",
   "metadata": {},
   "outputs": [
    {
     "name": "stdout",
     "output_type": "stream",
     "text": [
      "[2, 3, 5, 7, 11, 13, 17, 19, 23, 29, 31, 37, 41, 43, 47, 53, 59, 61, 67, 71, 73, 79, 83, 89, 97]\n"
     ]
    }
   ],
   "source": [
    "prime=[x for x in range(2,100) if all(x%y!=0 for y in range(2,int(x/2)+1))]\n",
    "print(prime)"
   ]
  },
  {
   "cell_type": "code",
   "execution_count": 142,
   "id": "163345b3-4506-475c-bb9a-45368ada85d6",
   "metadata": {},
   "outputs": [
    {
     "name": "stdout",
     "output_type": "stream",
     "text": [
      "[2, 3, 5, 7, 11, 13, 17, 19, 23, 29, 31, 37, 41, 43, 47, 53, 59, 61]\n"
     ]
    }
   ],
   "source": [
    "prime=[x for x in range(2,62) if all(x%y!=0 for y in range(2,int(x**0.5)+1))]\n",
    "print(prime)"
   ]
  },
  {
   "cell_type": "code",
   "execution_count": 143,
   "id": "fbc3a909-2fbd-48ed-b5b6-906666c5e599",
   "metadata": {},
   "outputs": [
    {
     "name": "stdout",
     "output_type": "stream",
     "text": [
      "[2, 3, 5, 7, 11, 13, 17, 19, 23, 29, 31, 37, 41, 43, 47, 53, 59, 61]\n"
     ]
    }
   ],
   "source": [
    "prime=[x for x in range(2,62) if all(x%y!=0 for y in range(2,x))]\n",
    "print(prime)"
   ]
  },
  {
   "cell_type": "markdown",
   "id": "8de02841-7201-44be-8bc5-7f7877e59f98",
   "metadata": {},
   "source": [
    "#### 4.Give multiple of each list in this list"
   ]
  },
  {
   "cell_type": "code",
   "execution_count": 61,
   "id": "5a5d782c-fb5f-48c3-a101-9cb86b6d0119",
   "metadata": {},
   "outputs": [
    {
     "name": "stdout",
     "output_type": "stream",
     "text": [
      "[[4, 6, 8, 10], [6, 9, 12, 15], [8, 12, 16, 20], [10, 15, 20, 25]]\n"
     ]
    }
   ],
   "source": [
    "number_list = [2, 3, 4, 5]\n",
    "multiplication_table = [[x*y for x in number_list] for y in number_list]\n",
    "print(multiplication_table)"
   ]
  },
  {
   "cell_type": "code",
   "execution_count": null,
   "id": "46ce31e9-2cb6-4614-b3da-cd938f9439ac",
   "metadata": {},
   "outputs": [],
   "source": []
  },
  {
   "cell_type": "markdown",
   "id": "7bb134d3-9ace-4c7d-af4d-660de731424b",
   "metadata": {},
   "source": [
    "#### 5. Make a pair for two numbers which sum is greater than 10"
   ]
  },
  {
   "cell_type": "code",
   "execution_count": 79,
   "id": "3900811d-5a41-47e3-9586-18f083fc5da1",
   "metadata": {},
   "outputs": [
    {
     "name": "stdout",
     "output_type": "stream",
     "text": [
      "[(4, 7), (6, 5), (6, 7)]\n"
     ]
    }
   ],
   "source": [
    "list1 = [2, 4, 6]\n",
    "list2 = [3, 5, 7]\n",
    "pairs = [(x, y) for x in list1 for y in list2 if x + y > 10]\n",
    "print(pairs)"
   ]
  },
  {
   "cell_type": "code",
   "execution_count": null,
   "id": "763b529b-18c4-46f8-ad05-e2ff659fc1fd",
   "metadata": {},
   "outputs": [],
   "source": []
  },
  {
   "cell_type": "markdown",
   "id": "deeb9071-e2c5-482d-b836-5e89cc4b7e9c",
   "metadata": {},
   "source": [
    "#### 6. Create a 5x5 matrix where each element is the product of its row and column indices."
   ]
  },
  {
   "cell_type": "code",
   "execution_count": 60,
   "id": "a879d66a-ebe0-4d4b-ac89-c16f1b3efe75",
   "metadata": {},
   "outputs": [
    {
     "data": {
      "text/plain": [
       "array([[ 1,  2,  3,  4],\n",
       "       [ 2,  4,  6,  8],\n",
       "       [ 3,  6,  9, 12],\n",
       "       [ 4,  8, 12, 16]])"
      ]
     },
     "execution_count": 60,
     "metadata": {},
     "output_type": "execute_result"
    }
   ],
   "source": [
    "matrix = [[i * j for i in range(1,5)] for j in range(1,5)]\n",
    "matrix=np.array(matrix)\n",
    "matrix"
   ]
  },
  {
   "cell_type": "code",
   "execution_count": 46,
   "id": "73628a27-bc14-44d5-817c-728cd89ffce0",
   "metadata": {},
   "outputs": [],
   "source": [
    "import numpy as  np"
   ]
  },
  {
   "cell_type": "code",
   "execution_count": null,
   "id": "8ceab06e-1868-4ea7-87df-cdb25cf61eff",
   "metadata": {},
   "outputs": [],
   "source": []
  },
  {
   "cell_type": "markdown",
   "id": "b18b96d6-d212-4755-962c-d4391786f097",
   "metadata": {},
   "source": [
    "#### 7.Create a list of numbers between 1 and 100 that are divisible by either 3 or 5 but not both."
   ]
  },
  {
   "cell_type": "code",
   "execution_count": 84,
   "id": "a6a3c4c5-de8f-4ea3-9f64-c5d38de21b16",
   "metadata": {},
   "outputs": [
    {
     "name": "stdout",
     "output_type": "stream",
     "text": [
      "[3, 5, 6, 9, 10, 12, 18, 20, 21, 24, 25, 27, 33, 35, 36, 39, 40, 42, 48, 50, 51, 54, 55, 57, 63, 65, 66, 69, 70, 72, 78, 80, 81, 84, 85, 87, 93, 95, 96, 99, 100]\n"
     ]
    }
   ],
   "source": [
    "x=[i for i in range(1,101) if (i%3==0 or i%5==0) and i%15!=0]\n",
    "print(x)"
   ]
  },
  {
   "cell_type": "code",
   "execution_count": null,
   "id": "28c5d6a7-d701-446f-9f8f-1a6e13d09f14",
   "metadata": {},
   "outputs": [],
   "source": []
  },
  {
   "cell_type": "markdown",
   "id": "64537a17-23c2-4ca6-892b-90cdba036fa4",
   "metadata": {},
   "source": [
    "#### 8.Flatten a 3D list into a 1D list."
   ]
  },
  {
   "cell_type": "code",
   "execution_count": 86,
   "id": "01bf8187-51f2-4a9a-aba8-a4350ed1e350",
   "metadata": {},
   "outputs": [
    {
     "name": "stdout",
     "output_type": "stream",
     "text": [
      "[1, 2, 3, 4, 5, 6, 7, 8, 9, 10, 11, 12, 13, 14, 15, 16, 17, 18]\n"
     ]
    }
   ],
   "source": [
    "a = [[[1, 2, 3], [4, 5, 6]], [[7, 8, 9], [10, 11, 12]], [[13, 14, 15], [16, 17, 18]]]\n",
    "flattened = [k for i in a for j in i for k in j]\n",
    "print(flattened)"
   ]
  },
  {
   "cell_type": "code",
   "execution_count": null,
   "id": "fa3c5d94-cbe2-4ff7-a806-eea69c244b96",
   "metadata": {},
   "outputs": [],
   "source": []
  },
  {
   "cell_type": "markdown",
   "id": "5aa632ca-eaa1-4bc2-bc05-3cfd84f0a4ae",
   "metadata": {},
   "source": [
    "#### 9.Create a list of strings where each string is the concatenation of its index and the corresponding number from 0 to 9."
   ]
  },
  {
   "cell_type": "code",
   "execution_count": 87,
   "id": "d3e7c31c-551d-482f-bb71-ac06af4d8f28",
   "metadata": {},
   "outputs": [
    {
     "name": "stdout",
     "output_type": "stream",
     "text": [
      "['0-0', '1-1', '2-2', '3-3', '4-4', '5-5', '6-6', '7-7', '8-8', '9-9']\n"
     ]
    }
   ],
   "source": [
    "indexed_strings = [f\"{i}-{x}\" for i, x in enumerate(range(10))]\n",
    "print(indexed_strings)"
   ]
  },
  {
   "cell_type": "code",
   "execution_count": null,
   "id": "27d85f65-3748-4902-943e-858168a9f46f",
   "metadata": {},
   "outputs": [],
   "source": []
  },
  {
   "cell_type": "markdown",
   "id": "9b3bf79e-db16-4487-a97a-68ee8588befd",
   "metadata": {},
   "source": [
    "#### 10.Create a list of (key, value) pairs from a dictionary where the values are even."
   ]
  },
  {
   "cell_type": "code",
   "execution_count": 89,
   "id": "2f834b88-2b62-4e1b-8f3f-7b91c5153747",
   "metadata": {},
   "outputs": [
    {
     "name": "stdout",
     "output_type": "stream",
     "text": [
      "[['b', 2], ['d', 4]]\n"
     ]
    }
   ],
   "source": [
    "dictionary = {'a': 1, 'b': 2, 'c': 3, 'd': 4}\n",
    "even_values = [[key, value] for key, value in dictionary.items() if value % 2 == 0]\n",
    "print(even_values)"
   ]
  },
  {
   "cell_type": "code",
   "execution_count": 90,
   "id": "b90a4d7c-874a-456c-94a7-04eac9afc574",
   "metadata": {},
   "outputs": [
    {
     "data": {
      "text/plain": [
       "dict_items([('a', 1), ('b', 2), ('c', 3), ('d', 4)])"
      ]
     },
     "execution_count": 90,
     "metadata": {},
     "output_type": "execute_result"
    }
   ],
   "source": [
    "dictionary.items()"
   ]
  },
  {
   "cell_type": "code",
   "execution_count": null,
   "id": "7779281a-46d4-4d1f-a650-7a1c72917f16",
   "metadata": {},
   "outputs": [],
   "source": []
  },
  {
   "cell_type": "code",
   "execution_count": null,
   "id": "308a8266-55aa-41bb-bd89-a7444b477bc2",
   "metadata": {},
   "outputs": [],
   "source": []
  },
  {
   "cell_type": "code",
   "execution_count": null,
   "id": "979baa09-5a56-4750-a7bf-1968950303a5",
   "metadata": {},
   "outputs": [],
   "source": []
  },
  {
   "cell_type": "code",
   "execution_count": null,
   "id": "734e9f52-f76b-4559-915f-10f13368c3bd",
   "metadata": {},
   "outputs": [],
   "source": []
  },
  {
   "cell_type": "code",
   "execution_count": null,
   "id": "6a96f054-4630-407f-a9a9-64bb5a3f7bbd",
   "metadata": {},
   "outputs": [],
   "source": []
  },
  {
   "cell_type": "code",
   "execution_count": null,
   "id": "49a36248-f3d5-4602-a013-389355efff21",
   "metadata": {},
   "outputs": [],
   "source": []
  },
  {
   "cell_type": "code",
   "execution_count": null,
   "id": "856d73bd-0383-4a2f-a537-ef786a76a855",
   "metadata": {},
   "outputs": [],
   "source": []
  }
 ],
 "metadata": {
  "kernelspec": {
   "display_name": "Python 3 (ipykernel)",
   "language": "python",
   "name": "python3"
  },
  "language_info": {
   "codemirror_mode": {
    "name": "ipython",
    "version": 3
   },
   "file_extension": ".py",
   "mimetype": "text/x-python",
   "name": "python",
   "nbconvert_exporter": "python",
   "pygments_lexer": "ipython3",
   "version": "3.11.7"
  }
 },
 "nbformat": 4,
 "nbformat_minor": 5
}
