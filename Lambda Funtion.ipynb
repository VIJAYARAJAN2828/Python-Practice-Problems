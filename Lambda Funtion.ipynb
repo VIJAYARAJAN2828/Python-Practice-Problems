{
 "cells": [
  {
   "cell_type": "markdown",
   "id": "fc0eba05-d356-4755-b2b0-600668d93a64",
   "metadata": {},
   "source": [
    "# Lambda"
   ]
  },
  {
   "cell_type": "markdown",
   "id": "4ab64a8f-8c1f-4483-928a-b0a706502b83",
   "metadata": {},
   "source": [
    "### 1.(Funtion)(values)\n",
    "### 2. x=Funtion\n",
    "###    value=(values)\n",
    "###    result=x(value)\n",
    "###    print(result)"
   ]
  },
  {
   "cell_type": "code",
   "execution_count": 21,
   "id": "0c2e7d2e-6546-48c5-b07d-fa010fdef631",
   "metadata": {},
   "outputs": [
    {
     "data": {
      "text/plain": [
       "10"
      ]
     },
     "execution_count": 21,
     "metadata": {},
     "output_type": "execute_result"
    }
   ],
   "source": [
    "(lambda x:x+5)(5)"
   ]
  },
  {
   "cell_type": "code",
   "execution_count": 20,
   "id": "8f08b8b1-c4d8-4626-b07e-e2ea5e9811b4",
   "metadata": {},
   "outputs": [
    {
     "name": "stdout",
     "output_type": "stream",
     "text": [
      "10\n"
     ]
    }
   ],
   "source": [
    "x=(lambda x,y:x+y)\n",
    "value=(5,5)\n",
    "result=(x)(*value)\n",
    "print(result)"
   ]
  },
  {
   "cell_type": "markdown",
   "id": "6d16586e-c514-4cf5-ae22-fa8e7d9955b9",
   "metadata": {},
   "source": [
    "#### 1.Write a lambda function to add 10 to a given number."
   ]
  },
  {
   "cell_type": "code",
   "execution_count": 22,
   "id": "fded4256-159c-4683-b9fa-84b6f97d2577",
   "metadata": {},
   "outputs": [
    {
     "name": "stdin",
     "output_type": "stream",
     "text": [
      "Enter a number :  10\n"
     ]
    },
    {
     "data": {
      "text/plain": [
       "20"
      ]
     },
     "execution_count": 22,
     "metadata": {},
     "output_type": "execute_result"
    }
   ],
   "source": [
    "(lambda x:x+10)(int(input('Enter a number : ')))"
   ]
  },
  {
   "cell_type": "code",
   "execution_count": null,
   "id": "57782a77-3b8c-4777-91c9-72473207662f",
   "metadata": {},
   "outputs": [],
   "source": []
  },
  {
   "cell_type": "markdown",
   "id": "97f13b63-2f12-4616-b74a-88f86162daf0",
   "metadata": {},
   "source": [
    "#### 2. Write a lambda function to multiply two numbers."
   ]
  },
  {
   "cell_type": "code",
   "execution_count": 24,
   "id": "e9cd3ca0-d472-43f4-86af-c22e57948319",
   "metadata": {},
   "outputs": [
    {
     "name": "stdin",
     "output_type": "stream",
     "text": [
      "Enter a 1st number :  10\n",
      "Enter a 2nd number :  10\n"
     ]
    },
    {
     "data": {
      "text/plain": [
       "100"
      ]
     },
     "execution_count": 24,
     "metadata": {},
     "output_type": "execute_result"
    }
   ],
   "source": [
    "(lambda x,y:x*y)(int(input('Enter a 1st number : ')),int(input('Enter a 2nd number : ')))"
   ]
  },
  {
   "cell_type": "code",
   "execution_count": null,
   "id": "8f72cdb9-a976-4500-a619-2a00ae1ba748",
   "metadata": {},
   "outputs": [],
   "source": []
  },
  {
   "cell_type": "markdown",
   "id": "da3ac7c3-2be8-4aaa-bc8e-3e43fac9d140",
   "metadata": {},
   "source": [
    "#### 3.Write a lambda function to check if a number is even."
   ]
  },
  {
   "cell_type": "code",
   "execution_count": 28,
   "id": "43884966-50ff-495d-a99b-f9e4069397f5",
   "metadata": {},
   "outputs": [
    {
     "name": "stdin",
     "output_type": "stream",
     "text": [
      "ENTER A NUMBER :  38264\n"
     ]
    },
    {
     "data": {
      "text/plain": [
       "'Even'"
      ]
     },
     "execution_count": 28,
     "metadata": {},
     "output_type": "execute_result"
    }
   ],
   "source": [
    "(lambda x: 'Even' if x%2==0 else 'Not even')(int(input('ENTER A NUMBER : ')))"
   ]
  },
  {
   "cell_type": "code",
   "execution_count": null,
   "id": "d2ab5596-beee-45d3-aa69-4c9670886ad1",
   "metadata": {},
   "outputs": [],
   "source": []
  },
  {
   "cell_type": "markdown",
   "id": "8e36753d-6640-418f-9618-ec7309ee968e",
   "metadata": {},
   "source": [
    "#### 4.Write a lambda function to find the maximum of two numbers."
   ]
  },
  {
   "cell_type": "code",
   "execution_count": 38,
   "id": "1f5f2820-e30f-4561-9879-fecb929656b4",
   "metadata": {},
   "outputs": [
    {
     "data": {
      "text/plain": [
       "'Same number'"
      ]
     },
     "execution_count": 38,
     "metadata": {},
     "output_type": "execute_result"
    }
   ],
   "source": [
    "(lambda x,y:'Same number' if x==y else 'X is greater than y' if x>y else 'Y is greater than x')(1,1)"
   ]
  },
  {
   "cell_type": "code",
   "execution_count": 36,
   "id": "677224ca-2e71-472a-97ce-a9a09377e089",
   "metadata": {},
   "outputs": [
    {
     "name": "stdin",
     "output_type": "stream",
     "text": [
      "Enter a 1st number :  928346\n",
      "Enter a 2nd number :  93742\n"
     ]
    },
    {
     "data": {
      "text/plain": [
       "'928346 is greater than 93742'"
      ]
     },
     "execution_count": 36,
     "metadata": {},
     "output_type": "execute_result"
    }
   ],
   "source": [
    "(lambda x,y:'Same number' if x==y else f'{x} is greater than {y}' if x>y else f'{y} is greater than {x}')(int(input('Enter a 1st number : ')),int(input('Enter a 2nd number : ')))"
   ]
  },
  {
   "cell_type": "code",
   "execution_count": null,
   "id": "3b2f2a23-8e1c-4b8a-bd7f-db0695f450e4",
   "metadata": {},
   "outputs": [],
   "source": []
  },
  {
   "cell_type": "markdown",
   "id": "e05ecf95-f405-4967-867e-dc642a391e76",
   "metadata": {},
   "source": [
    "#### 5.Write a lambda function to get the last character of a string."
   ]
  },
  {
   "cell_type": "code",
   "execution_count": 40,
   "id": "113602ba-39dc-47db-a190-2d5c6431514a",
   "metadata": {},
   "outputs": [
    {
     "data": {
      "text/plain": [
       "'n'"
      ]
     },
     "execution_count": 40,
     "metadata": {},
     "output_type": "execute_result"
    }
   ],
   "source": [
    "(lambda x:x[-1])('Vijayarajan')"
   ]
  },
  {
   "cell_type": "code",
   "execution_count": null,
   "id": "ff7da14d-e017-4047-9a55-77005f458ba7",
   "metadata": {},
   "outputs": [],
   "source": []
  },
  {
   "cell_type": "markdown",
   "id": "9639c054-7dbd-45fe-a8b8-714c6401d0e3",
   "metadata": {},
   "source": [
    "#### 6.Write a lambda function to reverse a string."
   ]
  },
  {
   "cell_type": "code",
   "execution_count": 41,
   "id": "99da7514-4888-49b8-9654-6183192333c2",
   "metadata": {},
   "outputs": [
    {
     "data": {
      "text/plain": [
       "'najarayajiV'"
      ]
     },
     "execution_count": 41,
     "metadata": {},
     "output_type": "execute_result"
    }
   ],
   "source": [
    "(lambda x:x[::-1])('Vijayarajan')"
   ]
  },
  {
   "cell_type": "code",
   "execution_count": null,
   "id": "c5bb0e53-4a3a-42ab-8ff6-57ab3ae7fac6",
   "metadata": {},
   "outputs": [],
   "source": []
  },
  {
   "cell_type": "markdown",
   "id": "24aa5e80-e6bf-4ed3-991e-d8bce6599455",
   "metadata": {},
   "source": [
    "#### 7.Write a lambda function to convert a string to uppercase."
   ]
  },
  {
   "cell_type": "code",
   "execution_count": 42,
   "id": "989a2052-704f-4f10-bddd-45a285e3c404",
   "metadata": {},
   "outputs": [
    {
     "data": {
      "text/plain": [
       "'VIJAYARAJAN'"
      ]
     },
     "execution_count": 42,
     "metadata": {},
     "output_type": "execute_result"
    }
   ],
   "source": [
    "(lambda x:x.upper())('vijayarajan')"
   ]
  },
  {
   "cell_type": "code",
   "execution_count": null,
   "id": "aa219b74-ef45-457d-8dd8-515cae648f01",
   "metadata": {},
   "outputs": [],
   "source": []
  },
  {
   "cell_type": "markdown",
   "id": "2d1db6ec-44b9-4666-a2e8-88f73d108415",
   "metadata": {},
   "source": [
    "#### 8.Write a lambda function to check if a string is a palindrome."
   ]
  },
  {
   "cell_type": "code",
   "execution_count": 44,
   "id": "fca8a7e1-6228-48eb-9bf3-e59f4e8ac4c3",
   "metadata": {},
   "outputs": [
    {
     "data": {
      "text/plain": [
       "'Yes its a palindrome'"
      ]
     },
     "execution_count": 44,
     "metadata": {},
     "output_type": "execute_result"
    }
   ],
   "source": [
    "(lambda x:'Yes its a palindrome' if x==x[::-1] else 'Not a palindrome')('MADAM')"
   ]
  },
  {
   "cell_type": "code",
   "execution_count": null,
   "id": "c7c70e61-36e5-442f-a50f-ad192d4d7289",
   "metadata": {},
   "outputs": [],
   "source": []
  },
  {
   "cell_type": "markdown",
   "id": "9f06ebce-8448-4ea4-81cd-87d2b430158b",
   "metadata": {},
   "source": [
    "# lambda using map\n",
    "\n",
    "##### list(map(lambda element: operation_on_element, iterable))\n"
   ]
  },
  {
   "cell_type": "markdown",
   "id": "a442c476-96b7-4dc4-83b3-968cf5f71288",
   "metadata": {},
   "source": [
    "#### 1.Write a lambda function to square each number in a list of integers."
   ]
  },
  {
   "cell_type": "code",
   "execution_count": 47,
   "id": "6ea56ec0-a1ed-4d2d-b8f0-9052bfc2ee2c",
   "metadata": {},
   "outputs": [
    {
     "data": {
      "text/plain": [
       "[1, 4, 9, 16, 25]"
      ]
     },
     "execution_count": 47,
     "metadata": {},
     "output_type": "execute_result"
    }
   ],
   "source": [
    "numbers = [1, 2, 3, 4, 5]\n",
    "list(map(lambda x:x**2,numbers))"
   ]
  },
  {
   "cell_type": "code",
   "execution_count": null,
   "id": "22ab9c88-680e-4e0f-96a7-a09a818495df",
   "metadata": {},
   "outputs": [],
   "source": []
  },
  {
   "cell_type": "markdown",
   "id": "939a259d-9d75-4880-9e2e-7b23fac444da",
   "metadata": {},
   "source": [
    "#### 2.Write a lambda function to convert each string in a list to uppercase."
   ]
  },
  {
   "cell_type": "code",
   "execution_count": 48,
   "id": "359d93da-e34d-4c4e-9b5d-817d43bd85e4",
   "metadata": {},
   "outputs": [
    {
     "data": {
      "text/plain": [
       "['APPLE', 'BANANA', 'CHERRY']"
      ]
     },
     "execution_count": 48,
     "metadata": {},
     "output_type": "execute_result"
    }
   ],
   "source": [
    "words = ['apple', 'banana', 'cherry']\n",
    "list(map(lambda x:x.upper(),words))"
   ]
  },
  {
   "cell_type": "code",
   "execution_count": null,
   "id": "efe3a9ee-0fb3-4478-97b4-f1169c13f0ac",
   "metadata": {},
   "outputs": [],
   "source": []
  },
  {
   "cell_type": "markdown",
   "id": "9b715bc5-7603-4e26-a75c-aa476e3b553a",
   "metadata": {},
   "source": [
    "#### 3. Write a lambda function to add 10 to each number in a list."
   ]
  },
  {
   "cell_type": "code",
   "execution_count": 50,
   "id": "57bf3016-3a85-4ebc-8faa-e6efc5a1768d",
   "metadata": {},
   "outputs": [
    {
     "data": {
      "text/plain": [
       "[15, 20, 25, 30]"
      ]
     },
     "execution_count": 50,
     "metadata": {},
     "output_type": "execute_result"
    }
   ],
   "source": [
    "numbers = [5, 10, 15, 20]\n",
    "list(map(lambda x:x+10,numbers))"
   ]
  },
  {
   "cell_type": "code",
   "execution_count": null,
   "id": "5a888488-ea3a-4238-baec-0f891f288d2c",
   "metadata": {},
   "outputs": [],
   "source": []
  },
  {
   "cell_type": "markdown",
   "id": "e6c20946-379e-4c65-835b-f23a7c49dfa8",
   "metadata": {},
   "source": [
    "#### 4. Write a lambda function to find the length of each string in a list."
   ]
  },
  {
   "cell_type": "code",
   "execution_count": 51,
   "id": "34cfaa65-de55-4566-ac10-b519728e6d76",
   "metadata": {},
   "outputs": [
    {
     "data": {
      "text/plain": [
       "[5, 5, 6]"
      ]
     },
     "execution_count": 51,
     "metadata": {},
     "output_type": "execute_result"
    }
   ],
   "source": [
    "words = ['hello', 'world', 'python']\n",
    "list(map(lambda x:len(x),words))"
   ]
  },
  {
   "cell_type": "code",
   "execution_count": null,
   "id": "2499fd87-2857-4f5f-9d1b-c75825eb1ed3",
   "metadata": {},
   "outputs": [],
   "source": []
  },
  {
   "cell_type": "markdown",
   "id": "2a0dea10-74cc-49ae-87ee-79615e33fc73",
   "metadata": {},
   "source": [
    "#### 5. Write a lambda function to check if each number in a list is even or odd (return True for even, False for odd)."
   ]
  },
  {
   "cell_type": "code",
   "execution_count": 52,
   "id": "28afc669-a452-4d49-bd30-175a487cacdb",
   "metadata": {},
   "outputs": [
    {
     "data": {
      "text/plain": [
       "['Odd', 'Even', 'Odd', 'Even', 'Odd', 'Even']"
      ]
     },
     "execution_count": 52,
     "metadata": {},
     "output_type": "execute_result"
    }
   ],
   "source": [
    "numbers = [1, 2, 3, 4, 5, 6]\n",
    "list(map(lambda x:'Odd' if x%2!=0 else 'Even',numbers))"
   ]
  },
  {
   "cell_type": "code",
   "execution_count": null,
   "id": "2a7a2d27-875e-4889-9690-b1f5ece5ab4e",
   "metadata": {},
   "outputs": [],
   "source": []
  },
  {
   "cell_type": "markdown",
   "id": "9fcd3462-610a-494c-8019-77fc8104a6e2",
   "metadata": {},
   "source": [
    "#### 6.Write a lambda function to reverse each string in a list."
   ]
  },
  {
   "cell_type": "code",
   "execution_count": 53,
   "id": "ac727220-cc1a-4bec-9aee-62bf294dee11",
   "metadata": {},
   "outputs": [
    {
     "data": {
      "text/plain": [
       "['dcba', 'hgfe', 'lkji']"
      ]
     },
     "execution_count": 53,
     "metadata": {},
     "output_type": "execute_result"
    }
   ],
   "source": [
    "words = ['abcd', 'efgh', 'ijkl']\n",
    "list(map(lambda x:x[::-1],words))"
   ]
  },
  {
   "cell_type": "code",
   "execution_count": null,
   "id": "ae9c51d0-36e0-42c3-8d8f-47233393b2f8",
   "metadata": {},
   "outputs": [],
   "source": []
  },
  {
   "cell_type": "markdown",
   "id": "390f65a9-c855-439e-94e9-34436e18b498",
   "metadata": {},
   "source": [
    "#### 7.Write a lambda function to get the first character of each string in a list."
   ]
  },
  {
   "cell_type": "code",
   "execution_count": 55,
   "id": "b146129e-a401-4327-99ab-cd1a1d8e741a",
   "metadata": {},
   "outputs": [
    {
     "data": {
      "text/plain": [
       "['a', 'b', 'c']"
      ]
     },
     "execution_count": 55,
     "metadata": {},
     "output_type": "execute_result"
    }
   ],
   "source": [
    "words = ['apple', 'banana', 'cherry']\n",
    "list(map(lambda x:x[0],words))"
   ]
  },
  {
   "cell_type": "code",
   "execution_count": null,
   "id": "b3aee93a-a0a0-46fc-a3f6-bdc95c9c137c",
   "metadata": {},
   "outputs": [],
   "source": []
  },
  {
   "cell_type": "markdown",
   "id": "77ee37d1-4072-4233-b154-dba795c4834f",
   "metadata": {},
   "source": [
    "#### 8.Write a lambda function to concatenate ' is good' to each string in a list."
   ]
  },
  {
   "cell_type": "code",
   "execution_count": 57,
   "id": "8182b58e-a722-424e-957c-5803ca32186c",
   "metadata": {},
   "outputs": [
    {
     "data": {
      "text/plain": [
       "['apple is good', 'banana is good', 'cherry is good']"
      ]
     },
     "execution_count": 57,
     "metadata": {},
     "output_type": "execute_result"
    }
   ],
   "source": [
    "words = ['apple', 'banana', 'cherry']\n",
    "list(map(lambda x:x+' is good',words))"
   ]
  },
  {
   "cell_type": "code",
   "execution_count": null,
   "id": "e030539c-af74-4ce7-a91e-de1c37f170a1",
   "metadata": {},
   "outputs": [],
   "source": []
  },
  {
   "cell_type": "markdown",
   "id": "f3088df3-3152-4c03-99ed-96b06ff3288b",
   "metadata": {},
   "source": [
    "#### 9.Write a lambda function to add corresponding elements from two lists."
   ]
  },
  {
   "cell_type": "code",
   "execution_count": 59,
   "id": "d374c36e-f160-4d46-949b-3ab3d520e6ab",
   "metadata": {},
   "outputs": [
    {
     "data": {
      "text/plain": [
       "[5, 7, 9]"
      ]
     },
     "execution_count": 59,
     "metadata": {},
     "output_type": "execute_result"
    }
   ],
   "source": [
    "list1 = [1, 2, 3]\n",
    "list2 = [4, 5, 6]\n",
    "list(map(lambda x,y:x+y,list1,list2))"
   ]
  },
  {
   "cell_type": "code",
   "execution_count": null,
   "id": "ca059881-7d73-483e-84bf-cb6e3cf4d74f",
   "metadata": {},
   "outputs": [],
   "source": []
  },
  {
   "cell_type": "markdown",
   "id": "698d99c5-7d57-49bc-8913-c76edc80cccd",
   "metadata": {},
   "source": [
    "#### 10.Write a lambda function to subtract corresponding elements from two lists."
   ]
  },
  {
   "cell_type": "code",
   "execution_count": 60,
   "id": "7a7e7a3e-7104-4586-b5dd-247b2fa8563b",
   "metadata": {},
   "outputs": [
    {
     "data": {
      "text/plain": [
       "[3, 3, 3]"
      ]
     },
     "execution_count": 60,
     "metadata": {},
     "output_type": "execute_result"
    }
   ],
   "source": [
    "list1 = [1, 2, 3]\n",
    "list2 = [4, 5, 6]\n",
    "list(map(lambda x,y:abs(x-y),list1,list2))"
   ]
  },
  {
   "cell_type": "code",
   "execution_count": null,
   "id": "95565377-dc72-48d8-8172-51f3ab72595d",
   "metadata": {},
   "outputs": [],
   "source": []
  },
  {
   "cell_type": "markdown",
   "id": "89148abd-6a4d-4b60-9a9b-a18b0ac06951",
   "metadata": {},
   "source": [
    "# Lambda using Filter"
   ]
  },
  {
   "cell_type": "markdown",
   "id": "2ddeb650-9853-4590-9290-0c73e5b6e07e",
   "metadata": {},
   "source": [
    "#### 1. Given a list of numbers, use a lambda function with filter to extract all even numbers."
   ]
  },
  {
   "cell_type": "code",
   "execution_count": 130,
   "id": "745b8432-026f-4263-9e10-e8aa95f78e80",
   "metadata": {},
   "outputs": [
    {
     "data": {
      "text/plain": [
       "<filter at 0x1fa5f427640>"
      ]
     },
     "execution_count": 130,
     "metadata": {},
     "output_type": "execute_result"
    }
   ],
   "source": [
    "numbers = [1, 2, 3, 4, 5, 6, 7, 8, 9, 10]\n",
    "filter(lambda x:x%2==0,numbers)"
   ]
  },
  {
   "cell_type": "code",
   "execution_count": null,
   "id": "64699300-13c0-404b-b8ab-6bf2d8aa31ce",
   "metadata": {},
   "outputs": [],
   "source": []
  },
  {
   "cell_type": "markdown",
   "id": "fa3caed5-fc09-4362-855c-f96b02ab2e64",
   "metadata": {},
   "source": [
    "#### 2.Given a list of numbers, use a lambda function with filter to extract all odd numbers."
   ]
  },
  {
   "cell_type": "code",
   "execution_count": 129,
   "id": "33353c7f-9da0-4008-a9ba-4fba2246627e",
   "metadata": {},
   "outputs": [
    {
     "data": {
      "text/plain": [
       "<filter at 0x1fa5f4251b0>"
      ]
     },
     "execution_count": 129,
     "metadata": {},
     "output_type": "execute_result"
    }
   ],
   "source": [
    "numbers = [1, 2, 3, 4, 5, 6, 7, 8, 9, 10]\n",
    "filter(lambda x:x%2!=0,numbers)"
   ]
  },
  {
   "cell_type": "code",
   "execution_count": null,
   "id": "1f7f938b-a3e9-467f-b40b-db1d1a5441e8",
   "metadata": {},
   "outputs": [],
   "source": []
  },
  {
   "cell_type": "markdown",
   "id": "26419028-063f-4498-bb73-f42efe9f3072",
   "metadata": {},
   "source": [
    "#### 3.Given a list of strings, use a lambda function with filter to extract all strings containing the letter 'a'."
   ]
  },
  {
   "cell_type": "code",
   "execution_count": 128,
   "id": "a8d68aca-aeed-4253-8b29-b3458124b20a",
   "metadata": {},
   "outputs": [
    {
     "data": {
      "text/plain": [
       "<filter at 0x1fa5f424d60>"
      ]
     },
     "execution_count": 128,
     "metadata": {},
     "output_type": "execute_result"
    }
   ],
   "source": [
    "words = ['apple', 'banana', 'cherry', 'date', 'fig', 'grape']\n",
    "filter(lambda x:'a' in x,words)"
   ]
  },
  {
   "cell_type": "code",
   "execution_count": null,
   "id": "477d6c84-07b2-47e3-aa9c-51968b3a4efd",
   "metadata": {},
   "outputs": [],
   "source": []
  },
  {
   "cell_type": "markdown",
   "id": "da921c54-11b7-474d-bcf7-c4a90397e2ad",
   "metadata": {},
   "source": [
    "#### 4.Given a list of strings, use a lambda function with filter to extract all strings with length greater than 3."
   ]
  },
  {
   "cell_type": "code",
   "execution_count": 66,
   "id": "870b2b8c-df90-4bd8-9d92-86a6aa8e17ec",
   "metadata": {},
   "outputs": [
    {
     "data": {
      "text/plain": [
       "['elephant']"
      ]
     },
     "execution_count": 66,
     "metadata": {},
     "output_type": "execute_result"
    }
   ],
   "source": [
    "words = ['cat', 'dog', 'elephant', 'rat']\n",
    "list(filter(lambda x:x if len(x)>3 else False,words))"
   ]
  },
  {
   "cell_type": "code",
   "execution_count": 67,
   "id": "00d5affa-3911-4f58-ab8d-ed397b3bfc0a",
   "metadata": {},
   "outputs": [
    {
     "data": {
      "text/plain": [
       "['elephant']"
      ]
     },
     "execution_count": 67,
     "metadata": {},
     "output_type": "execute_result"
    }
   ],
   "source": [
    "words = ['cat', 'dog', 'elephant', 'rat']\n",
    "list(filter(lambda x:len(x)>3,words))"
   ]
  },
  {
   "cell_type": "code",
   "execution_count": null,
   "id": "4beb3ffb-3ebc-404a-bfd9-20f0df221e47",
   "metadata": {},
   "outputs": [],
   "source": []
  },
  {
   "cell_type": "markdown",
   "id": "7f443492-8ba8-42b0-976b-5d46f22c540c",
   "metadata": {},
   "source": [
    "#### 5.Given a list of strings, use a lambda function with filter to extract all palindromic strings."
   ]
  },
  {
   "cell_type": "code",
   "execution_count": 70,
   "id": "c0b07d04-9b27-4e14-90ce-46377f1236b3",
   "metadata": {},
   "outputs": [
    {
     "data": {
      "text/plain": [
       "['level', 'radar', 'madam']"
      ]
     },
     "execution_count": 70,
     "metadata": {},
     "output_type": "execute_result"
    }
   ],
   "source": [
    "words = ['level', 'radar', 'world', 'python', 'madam']\n",
    "list(filter(lambda x:x==x[::-1],words))"
   ]
  },
  {
   "cell_type": "code",
   "execution_count": null,
   "id": "ee5f71f2-7d6f-4373-8c38-1180436d2495",
   "metadata": {},
   "outputs": [],
   "source": []
  },
  {
   "cell_type": "markdown",
   "id": "84a097d1-af04-4340-8f4d-f108db6df0e5",
   "metadata": {},
   "source": [
    "#### 6.Given a list of names, use a lambda function with filter to extract all names starting with the letter 'J'."
   ]
  },
  {
   "cell_type": "code",
   "execution_count": 71,
   "id": "e618acf1-1161-4e40-a6be-5ca8bca7b63b",
   "metadata": {},
   "outputs": [
    {
     "data": {
      "text/plain": [
       "['John', 'Jake', 'Jill']"
      ]
     },
     "execution_count": 71,
     "metadata": {},
     "output_type": "execute_result"
    }
   ],
   "source": [
    "names = ['John', 'Jake', 'Michael', 'Sarah', 'Jill']\n",
    "list(filter(lambda x:x[0].lower()=='j',names))"
   ]
  },
  {
   "cell_type": "code",
   "execution_count": null,
   "id": "9be1a9fb-91d6-4fc5-9087-8fffdf31b81e",
   "metadata": {},
   "outputs": [],
   "source": []
  },
  {
   "cell_type": "markdown",
   "id": "5b373c4b-bbab-4963-9997-980df95a7cf9",
   "metadata": {},
   "source": [
    "# Lambda using Reduce"
   ]
  },
  {
   "cell_type": "markdown",
   "id": "8c8dd7cd-be92-492c-96f0-82ae429e764e",
   "metadata": {},
   "source": [
    "#### 1.Write a lambda function with reduce to find the sum of all elements in a list."
   ]
  },
  {
   "cell_type": "code",
   "execution_count": 73,
   "id": "059422f1-4808-4d4f-bb02-6a3366df8600",
   "metadata": {},
   "outputs": [],
   "source": [
    "from functools import reduce"
   ]
  },
  {
   "cell_type": "code",
   "execution_count": 77,
   "id": "96cee950-8139-4824-a417-9747a9949c0c",
   "metadata": {},
   "outputs": [
    {
     "data": {
      "text/plain": [
       "15"
      ]
     },
     "execution_count": 77,
     "metadata": {},
     "output_type": "execute_result"
    }
   ],
   "source": [
    "numbers = [1, 2, 3, 4, 5]\n",
    "list=reduce(lambda x,y:x+y,numbers)\n",
    "list "
   ]
  },
  {
   "cell_type": "code",
   "execution_count": null,
   "id": "d4aa8e9c-6407-432a-afa8-be3e989d7c0b",
   "metadata": {},
   "outputs": [],
   "source": []
  },
  {
   "cell_type": "markdown",
   "id": "cbe5f497-5af3-4a4a-9f1d-f0784d0c19bd",
   "metadata": {},
   "source": [
    "#### 2.Write a lambda function with reduce to find the product of all elements in a list."
   ]
  },
  {
   "cell_type": "code",
   "execution_count": 78,
   "id": "fb9be383-6966-4357-932e-c914302a80ec",
   "metadata": {},
   "outputs": [
    {
     "data": {
      "text/plain": [
       "120"
      ]
     },
     "execution_count": 78,
     "metadata": {},
     "output_type": "execute_result"
    }
   ],
   "source": [
    "numbers = [1, 2, 3, 4, 5]\n",
    "res=reduce(lambda x,y:x*y,numbers)\n",
    "res"
   ]
  },
  {
   "cell_type": "code",
   "execution_count": null,
   "id": "fea6ee85-9d95-4530-8a10-363a8d2dd0f9",
   "metadata": {},
   "outputs": [],
   "source": []
  },
  {
   "cell_type": "markdown",
   "id": "113fd75e-97ef-4096-9f31-7db9e2fc40d0",
   "metadata": {},
   "source": [
    "#### 3.Write a lambda function with reduce to find the maximum value in a list."
   ]
  },
  {
   "cell_type": "code",
   "execution_count": 81,
   "id": "9bf793ef-5d72-4397-8181-3ac2b1b1679a",
   "metadata": {},
   "outputs": [
    {
     "data": {
      "text/plain": [
       "9"
      ]
     },
     "execution_count": 81,
     "metadata": {},
     "output_type": "execute_result"
    }
   ],
   "source": [
    "numbers = [1, 5, 3, 9, 2]\n",
    "res=reduce(lambda x,y:x if x>y else y,numbers)\n",
    "res"
   ]
  },
  {
   "cell_type": "code",
   "execution_count": null,
   "id": "b6ce0e66-d5b0-4032-a8ae-1b142544142b",
   "metadata": {},
   "outputs": [],
   "source": []
  },
  {
   "cell_type": "markdown",
   "id": "b7b62d4a-313d-4ccc-9473-064f850bad8c",
   "metadata": {},
   "source": [
    "#### 4.Write a lambda function with reduce to concatenate a list of strings into a single string."
   ]
  },
  {
   "cell_type": "code",
   "execution_count": 82,
   "id": "a0b1b9e9-6150-4de8-beea-cbc2c8c7dece",
   "metadata": {},
   "outputs": [
    {
     "data": {
      "text/plain": [
       "'Hello world this is Python'"
      ]
     },
     "execution_count": 82,
     "metadata": {},
     "output_type": "execute_result"
    }
   ],
   "source": [
    "words = [\"Hello\", \"world\", \"this\", \"is\", \"Python\"]\n",
    "res=reduce(lambda x,y:x+' '+y,words)\n",
    "res"
   ]
  },
  {
   "cell_type": "code",
   "execution_count": null,
   "id": "f3deb095-e02b-4799-a434-9c6fb417679c",
   "metadata": {},
   "outputs": [],
   "source": []
  },
  {
   "cell_type": "markdown",
   "id": "223ca056-a34f-4e0d-85b5-5a5025733b2e",
   "metadata": {},
   "source": [
    "#### 5. Write a lambda function with reduce to flatten a list of lists into a single list."
   ]
  },
  {
   "cell_type": "code",
   "execution_count": 123,
   "id": "f4fbdc46-fa5d-4b46-9556-6314993fd1a3",
   "metadata": {},
   "outputs": [
    {
     "data": {
      "text/plain": [
       "[1, 2, 3, 4, 5, 6, 7]"
      ]
     },
     "execution_count": 123,
     "metadata": {},
     "output_type": "execute_result"
    }
   ],
   "source": [
    "list_of_lists = [[1, 2], [3, 4], [5, 6,7]]\n",
    "res=reduce(lambda x,y:x+y,list_of_lists)\n",
    "res"
   ]
  },
  {
   "cell_type": "code",
   "execution_count": null,
   "id": "44c3734d-0701-4572-bb19-c372d2027ce5",
   "metadata": {},
   "outputs": [],
   "source": []
  },
  {
   "cell_type": "markdown",
   "id": "5e91e28b-c1da-43b0-9e70-032c9aeb71de",
   "metadata": {},
   "source": [
    "#### 6.Write a lambda function with reduce to find the longest string in a list of strings."
   ]
  },
  {
   "cell_type": "code",
   "execution_count": 91,
   "id": "bb982ad3-b167-4406-9582-7b397d62b1b9",
   "metadata": {},
   "outputs": [
    {
     "data": {
      "text/plain": [
       "'cherry'"
      ]
     },
     "execution_count": 91,
     "metadata": {},
     "output_type": "execute_result"
    }
   ],
   "source": [
    "words = [\"apple\", \"banana\", \"cherry\", \"date\"]\n",
    "res=reduce(lambda x,y:x if len(x)>len(y) else y,words)\n",
    "res"
   ]
  },
  {
   "cell_type": "code",
   "execution_count": null,
   "id": "459f9fc7-eb38-44ce-b3c8-9093a5a518ac",
   "metadata": {},
   "outputs": [],
   "source": []
  },
  {
   "cell_type": "markdown",
   "id": "1ca42b44-4169-4ed0-95b4-c5cb33ecb080",
   "metadata": {},
   "source": [
    "#### 7.Write a lambda function with reduce to find the sum of squares of all elements in a list."
   ]
  },
  {
   "cell_type": "code",
   "execution_count": 121,
   "id": "dab52da8-b719-4ff7-8835-365eb5bb2fac",
   "metadata": {},
   "outputs": [
    {
     "data": {
      "text/plain": [
       "30"
      ]
     },
     "execution_count": 121,
     "metadata": {},
     "output_type": "execute_result"
    }
   ],
   "source": [
    "numbers = [1, 2, 3, 4]\n",
    "res=reduce(lambda x,y:x+y**2,numbers,0)\n",
    "res"
   ]
  },
  {
   "cell_type": "code",
   "execution_count": null,
   "id": "4fd748d0-e56b-4cd2-8d47-7c99e13e8198",
   "metadata": {},
   "outputs": [],
   "source": []
  },
  {
   "cell_type": "markdown",
   "id": "18573b45-6fef-4811-86d3-fd87ea380bb3",
   "metadata": {},
   "source": [
    "#### 8.Write a lambda function with reduce to subtract all elements in a list from the first element."
   ]
  },
  {
   "cell_type": "code",
   "execution_count": 122,
   "id": "8ccf4d75-944f-458e-b3ea-ddf6e76294ea",
   "metadata": {},
   "outputs": [
    {
     "data": {
      "text/plain": [
       "4"
      ]
     },
     "execution_count": 122,
     "metadata": {},
     "output_type": "execute_result"
    }
   ],
   "source": [
    "numbers = [10, 1, 2, 3]\n",
    "res=reduce(lambda x,y:x-y,numbers)\n",
    "res"
   ]
  },
  {
   "cell_type": "code",
   "execution_count": null,
   "id": "c0dece4f-95d3-4a38-9cd1-b94c7b6b4f67",
   "metadata": {},
   "outputs": [],
   "source": []
  },
  {
   "cell_type": "markdown",
   "id": "212728af-efcc-4733-8fa4-80ba9723bb99",
   "metadata": {},
   "source": [
    "#### 9.Write a lambda function with reduce to count the occurrences of a specific character in a list of strings."
   ]
  },
  {
   "cell_type": "code",
   "execution_count": 103,
   "id": "9cdac1e3-05b6-436b-b0f1-8d92e3257598",
   "metadata": {},
   "outputs": [
    {
     "data": {
      "text/plain": [
       "4"
      ]
     },
     "execution_count": 103,
     "metadata": {},
     "output_type": "execute_result"
    }
   ],
   "source": [
    "words = [\"apple\", \"banana\", \"cherry\"]\n",
    "char = 'a'\n",
    "res=reduce(lambda x,y:x+y.count(char),words,0)\n",
    "res"
   ]
  },
  {
   "cell_type": "code",
   "execution_count": null,
   "id": "941aab69-6e45-4b2a-9012-ce58c805e72c",
   "metadata": {},
   "outputs": [],
   "source": []
  },
  {
   "cell_type": "markdown",
   "id": "24b5e18b-5af1-48d0-a4c9-af10f5edda5c",
   "metadata": {},
   "source": [
    "#### 10.Write a lambda function with reduce to find the greatest common divisor (GCD) of a list of numbers."
   ]
  },
  {
   "cell_type": "code",
   "execution_count": 104,
   "id": "2cb9b72b-e776-4dab-9c75-8346b0f2a028",
   "metadata": {},
   "outputs": [],
   "source": [
    "from math import gcd"
   ]
  },
  {
   "cell_type": "code",
   "execution_count": 105,
   "id": "b7dff80c-64c5-4e30-9de2-8b372833f980",
   "metadata": {},
   "outputs": [
    {
     "name": "stdout",
     "output_type": "stream",
     "text": [
      "16\n"
     ]
    }
   ],
   "source": [
    "from math import gcd\n",
    "numbers = [48, 64, 32]\n",
    "result = reduce(lambda x, y: gcd(x, y), numbers)\n",
    "print(result)"
   ]
  },
  {
   "cell_type": "code",
   "execution_count": null,
   "id": "d6978526-ef8b-4b33-bfa0-d9445b00a53f",
   "metadata": {},
   "outputs": [],
   "source": []
  },
  {
   "cell_type": "markdown",
   "id": "90a2a8e5-f194-46cd-9b4e-54d50cd20384",
   "metadata": {},
   "source": [
    "# Lambda using Map,filter,reduce"
   ]
  },
  {
   "cell_type": "markdown",
   "id": "7155ea76-74d1-45f4-a466-8058978f293f",
   "metadata": {},
   "source": [
    "#### 1.Sum of squares of even numbers"
   ]
  },
  {
   "cell_type": "code",
   "execution_count": 134,
   "id": "5aa7ebb4-45dd-4a0c-97f3-7199a14ba17e",
   "metadata": {},
   "outputs": [
    {
     "name": "stdout",
     "output_type": "stream",
     "text": [
      "220\n"
     ]
    }
   ],
   "source": [
    "from functools import reduce\n",
    "\n",
    "numbers = [1, 2, 3, 4, 5, 6, 7, 8, 9, 10]\n",
    "\n",
    "even_squares_sum = reduce(lambda x, y: x + y**2, filter(lambda x: x % 2 == 0, numbers), 0)\n",
    "\n",
    "print(even_squares_sum)"
   ]
  }
 ],
 "metadata": {
  "kernelspec": {
   "display_name": "Python 3 (ipykernel)",
   "language": "python",
   "name": "python3"
  },
  "language_info": {
   "codemirror_mode": {
    "name": "ipython",
    "version": 3
   },
   "file_extension": ".py",
   "mimetype": "text/x-python",
   "name": "python",
   "nbconvert_exporter": "python",
   "pygments_lexer": "ipython3",
   "version": "3.11.7"
  }
 },
 "nbformat": 4,
 "nbformat_minor": 5
}
